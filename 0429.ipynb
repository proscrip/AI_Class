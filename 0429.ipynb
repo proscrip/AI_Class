{
 "cells": [
  {
   "cell_type": "code",
   "execution_count": 1,
   "id": "c9a34d9b-f91a-4b2d-9739-a6ed996daac5",
   "metadata": {},
   "outputs": [],
   "source": [
    "\n",
    "import numpy as np\n",
    "import matplotlib.pyplot as plt\n",
    "import pandas as pd\n",
    "import seaborn as sns\n",
    "from scipy import stats  \n",
    "import numpy as np\n",
    "import pandas as pd\n",
    "import seaborn as sns\n",
    "from sklearn.model_selection import train_test_split\n",
    "import tensorflow as tf\n",
    "from tensorflow import keras"
   ]
  },
  {
   "cell_type": "code",
   "execution_count": 3,
   "id": "0d1a0bc7-6ed8-490e-b04a-6e5127bc2e09",
   "metadata": {},
   "outputs": [
    {
     "data": {
      "text/html": [
       "<div>\n",
       "<style scoped>\n",
       "    .dataframe tbody tr th:only-of-type {\n",
       "        vertical-align: middle;\n",
       "    }\n",
       "\n",
       "    .dataframe tbody tr th {\n",
       "        vertical-align: top;\n",
       "    }\n",
       "\n",
       "    .dataframe thead th {\n",
       "        text-align: right;\n",
       "    }\n",
       "</style>\n",
       "<table border=\"1\" class=\"dataframe\">\n",
       "  <thead>\n",
       "    <tr style=\"text-align: right;\">\n",
       "      <th></th>\n",
       "      <th>buying</th>\n",
       "      <th>maint</th>\n",
       "      <th>doors</th>\n",
       "      <th>persons</th>\n",
       "      <th>lug_boot</th>\n",
       "      <th>safety</th>\n",
       "      <th>class</th>\n",
       "    </tr>\n",
       "  </thead>\n",
       "  <tbody>\n",
       "    <tr>\n",
       "      <th>0</th>\n",
       "      <td>vhigh</td>\n",
       "      <td>vhigh</td>\n",
       "      <td>2</td>\n",
       "      <td>2</td>\n",
       "      <td>small</td>\n",
       "      <td>low</td>\n",
       "      <td>unacc</td>\n",
       "    </tr>\n",
       "    <tr>\n",
       "      <th>1</th>\n",
       "      <td>vhigh</td>\n",
       "      <td>vhigh</td>\n",
       "      <td>2</td>\n",
       "      <td>2</td>\n",
       "      <td>small</td>\n",
       "      <td>med</td>\n",
       "      <td>unacc</td>\n",
       "    </tr>\n",
       "    <tr>\n",
       "      <th>2</th>\n",
       "      <td>vhigh</td>\n",
       "      <td>vhigh</td>\n",
       "      <td>2</td>\n",
       "      <td>2</td>\n",
       "      <td>small</td>\n",
       "      <td>high</td>\n",
       "      <td>unacc</td>\n",
       "    </tr>\n",
       "    <tr>\n",
       "      <th>3</th>\n",
       "      <td>vhigh</td>\n",
       "      <td>vhigh</td>\n",
       "      <td>2</td>\n",
       "      <td>2</td>\n",
       "      <td>med</td>\n",
       "      <td>low</td>\n",
       "      <td>unacc</td>\n",
       "    </tr>\n",
       "    <tr>\n",
       "      <th>4</th>\n",
       "      <td>vhigh</td>\n",
       "      <td>vhigh</td>\n",
       "      <td>2</td>\n",
       "      <td>2</td>\n",
       "      <td>med</td>\n",
       "      <td>med</td>\n",
       "      <td>unacc</td>\n",
       "    </tr>\n",
       "    <tr>\n",
       "      <th>...</th>\n",
       "      <td>...</td>\n",
       "      <td>...</td>\n",
       "      <td>...</td>\n",
       "      <td>...</td>\n",
       "      <td>...</td>\n",
       "      <td>...</td>\n",
       "      <td>...</td>\n",
       "    </tr>\n",
       "    <tr>\n",
       "      <th>1723</th>\n",
       "      <td>low</td>\n",
       "      <td>low</td>\n",
       "      <td>5more</td>\n",
       "      <td>more</td>\n",
       "      <td>med</td>\n",
       "      <td>med</td>\n",
       "      <td>good</td>\n",
       "    </tr>\n",
       "    <tr>\n",
       "      <th>1724</th>\n",
       "      <td>low</td>\n",
       "      <td>low</td>\n",
       "      <td>5more</td>\n",
       "      <td>more</td>\n",
       "      <td>med</td>\n",
       "      <td>high</td>\n",
       "      <td>vgood</td>\n",
       "    </tr>\n",
       "    <tr>\n",
       "      <th>1725</th>\n",
       "      <td>low</td>\n",
       "      <td>low</td>\n",
       "      <td>5more</td>\n",
       "      <td>more</td>\n",
       "      <td>big</td>\n",
       "      <td>low</td>\n",
       "      <td>unacc</td>\n",
       "    </tr>\n",
       "    <tr>\n",
       "      <th>1726</th>\n",
       "      <td>low</td>\n",
       "      <td>low</td>\n",
       "      <td>5more</td>\n",
       "      <td>more</td>\n",
       "      <td>big</td>\n",
       "      <td>med</td>\n",
       "      <td>good</td>\n",
       "    </tr>\n",
       "    <tr>\n",
       "      <th>1727</th>\n",
       "      <td>low</td>\n",
       "      <td>low</td>\n",
       "      <td>5more</td>\n",
       "      <td>more</td>\n",
       "      <td>big</td>\n",
       "      <td>high</td>\n",
       "      <td>vgood</td>\n",
       "    </tr>\n",
       "  </tbody>\n",
       "</table>\n",
       "<p>1728 rows × 7 columns</p>\n",
       "</div>"
      ],
      "text/plain": [
       "     buying  maint  doors persons lug_boot safety  class\n",
       "0     vhigh  vhigh      2       2    small    low  unacc\n",
       "1     vhigh  vhigh      2       2    small    med  unacc\n",
       "2     vhigh  vhigh      2       2    small   high  unacc\n",
       "3     vhigh  vhigh      2       2      med    low  unacc\n",
       "4     vhigh  vhigh      2       2      med    med  unacc\n",
       "...     ...    ...    ...     ...      ...    ...    ...\n",
       "1723    low    low  5more    more      med    med   good\n",
       "1724    low    low  5more    more      med   high  vgood\n",
       "1725    low    low  5more    more      big    low  unacc\n",
       "1726    low    low  5more    more      big    med   good\n",
       "1727    low    low  5more    more      big   high  vgood\n",
       "\n",
       "[1728 rows x 7 columns]"
      ]
     },
     "execution_count": 3,
     "metadata": {},
     "output_type": "execute_result"
    }
   ],
   "source": [
    "file_path = 'car.data'\n",
    "\n",
    "column_names = [\"buying\", \"maint\", \"doors\", \"persons\", \"lug_boot\", \"safety\", \"class\"]          \n",
    "\n",
    "df = pd.read_csv(file_path, header=None, names=column_names)\n",
    "\n",
    "df"
   ]
  },
  {
   "cell_type": "code",
   "execution_count": 4,
   "id": "7109fe90-4bb5-4614-a6af-2ab74f87c2ad",
   "metadata": {},
   "outputs": [
    {
     "data": {
      "text/plain": [
       "buying      0\n",
       "maint       0\n",
       "doors       0\n",
       "persons     0\n",
       "lug_boot    0\n",
       "safety      0\n",
       "class       0\n",
       "dtype: int64"
      ]
     },
     "execution_count": 4,
     "metadata": {},
     "output_type": "execute_result"
    }
   ],
   "source": [
    "df.isnull().sum()"
   ]
  },
  {
   "cell_type": "code",
   "execution_count": 8,
   "id": "d42d3366-dda3-4d2b-98db-37acd7b5e1d6",
   "metadata": {},
   "outputs": [],
   "source": [
    "\n",
    "from sklearn.preprocessing import StandardScaler,LabelEncoder\n",
    "label=LabelEncoder()\n",
    "for col in df.columns:\n",
    "    df[col]=label.fit_transform(df[col])"
   ]
  },
  {
   "cell_type": "code",
   "execution_count": 6,
   "id": "5a70ccc9-2e0d-47cd-954b-38d49dde2053",
   "metadata": {},
   "outputs": [
    {
     "data": {
      "text/plain": [
       "class\n",
       "2    1210\n",
       "0     384\n",
       "1      69\n",
       "3      65\n",
       "Name: count, dtype: int64"
      ]
     },
     "execution_count": 6,
     "metadata": {},
     "output_type": "execute_result"
    }
   ],
   "source": [
    "df['class'].value_counts()"
   ]
  },
  {
   "cell_type": "code",
   "execution_count": 13,
   "id": "9db2f118-de49-426d-a8f6-675ef98155ef",
   "metadata": {},
   "outputs": [
    {
     "data": {
      "text/html": [
       "<div>\n",
       "<style scoped>\n",
       "    .dataframe tbody tr th:only-of-type {\n",
       "        vertical-align: middle;\n",
       "    }\n",
       "\n",
       "    .dataframe tbody tr th {\n",
       "        vertical-align: top;\n",
       "    }\n",
       "\n",
       "    .dataframe thead th {\n",
       "        text-align: right;\n",
       "    }\n",
       "</style>\n",
       "<table border=\"1\" class=\"dataframe\">\n",
       "  <thead>\n",
       "    <tr style=\"text-align: right;\">\n",
       "      <th></th>\n",
       "      <th>buying</th>\n",
       "      <th>maint</th>\n",
       "      <th>doors</th>\n",
       "      <th>persons</th>\n",
       "      <th>lug_boot</th>\n",
       "      <th>safety</th>\n",
       "    </tr>\n",
       "  </thead>\n",
       "  <tbody>\n",
       "    <tr>\n",
       "      <th>0</th>\n",
       "      <td>1.000000</td>\n",
       "      <td>1.000000</td>\n",
       "      <td>0.0</td>\n",
       "      <td>0.0</td>\n",
       "      <td>1.0</td>\n",
       "      <td>0.5</td>\n",
       "    </tr>\n",
       "    <tr>\n",
       "      <th>1</th>\n",
       "      <td>1.000000</td>\n",
       "      <td>1.000000</td>\n",
       "      <td>0.0</td>\n",
       "      <td>0.0</td>\n",
       "      <td>1.0</td>\n",
       "      <td>1.0</td>\n",
       "    </tr>\n",
       "    <tr>\n",
       "      <th>2</th>\n",
       "      <td>1.000000</td>\n",
       "      <td>1.000000</td>\n",
       "      <td>0.0</td>\n",
       "      <td>0.0</td>\n",
       "      <td>1.0</td>\n",
       "      <td>0.0</td>\n",
       "    </tr>\n",
       "    <tr>\n",
       "      <th>3</th>\n",
       "      <td>1.000000</td>\n",
       "      <td>1.000000</td>\n",
       "      <td>0.0</td>\n",
       "      <td>0.0</td>\n",
       "      <td>0.5</td>\n",
       "      <td>0.5</td>\n",
       "    </tr>\n",
       "    <tr>\n",
       "      <th>4</th>\n",
       "      <td>1.000000</td>\n",
       "      <td>1.000000</td>\n",
       "      <td>0.0</td>\n",
       "      <td>0.0</td>\n",
       "      <td>0.5</td>\n",
       "      <td>1.0</td>\n",
       "    </tr>\n",
       "    <tr>\n",
       "      <th>...</th>\n",
       "      <td>...</td>\n",
       "      <td>...</td>\n",
       "      <td>...</td>\n",
       "      <td>...</td>\n",
       "      <td>...</td>\n",
       "      <td>...</td>\n",
       "    </tr>\n",
       "    <tr>\n",
       "      <th>1723</th>\n",
       "      <td>0.333333</td>\n",
       "      <td>0.333333</td>\n",
       "      <td>1.0</td>\n",
       "      <td>1.0</td>\n",
       "      <td>0.5</td>\n",
       "      <td>1.0</td>\n",
       "    </tr>\n",
       "    <tr>\n",
       "      <th>1724</th>\n",
       "      <td>0.333333</td>\n",
       "      <td>0.333333</td>\n",
       "      <td>1.0</td>\n",
       "      <td>1.0</td>\n",
       "      <td>0.5</td>\n",
       "      <td>0.0</td>\n",
       "    </tr>\n",
       "    <tr>\n",
       "      <th>1725</th>\n",
       "      <td>0.333333</td>\n",
       "      <td>0.333333</td>\n",
       "      <td>1.0</td>\n",
       "      <td>1.0</td>\n",
       "      <td>0.0</td>\n",
       "      <td>0.5</td>\n",
       "    </tr>\n",
       "    <tr>\n",
       "      <th>1726</th>\n",
       "      <td>0.333333</td>\n",
       "      <td>0.333333</td>\n",
       "      <td>1.0</td>\n",
       "      <td>1.0</td>\n",
       "      <td>0.0</td>\n",
       "      <td>1.0</td>\n",
       "    </tr>\n",
       "    <tr>\n",
       "      <th>1727</th>\n",
       "      <td>0.333333</td>\n",
       "      <td>0.333333</td>\n",
       "      <td>1.0</td>\n",
       "      <td>1.0</td>\n",
       "      <td>0.0</td>\n",
       "      <td>0.0</td>\n",
       "    </tr>\n",
       "  </tbody>\n",
       "</table>\n",
       "<p>1728 rows × 6 columns</p>\n",
       "</div>"
      ],
      "text/plain": [
       "        buying     maint  doors  persons  lug_boot  safety\n",
       "0     1.000000  1.000000    0.0      0.0       1.0     0.5\n",
       "1     1.000000  1.000000    0.0      0.0       1.0     1.0\n",
       "2     1.000000  1.000000    0.0      0.0       1.0     0.0\n",
       "3     1.000000  1.000000    0.0      0.0       0.5     0.5\n",
       "4     1.000000  1.000000    0.0      0.0       0.5     1.0\n",
       "...        ...       ...    ...      ...       ...     ...\n",
       "1723  0.333333  0.333333    1.0      1.0       0.5     1.0\n",
       "1724  0.333333  0.333333    1.0      1.0       0.5     0.0\n",
       "1725  0.333333  0.333333    1.0      1.0       0.0     0.5\n",
       "1726  0.333333  0.333333    1.0      1.0       0.0     1.0\n",
       "1727  0.333333  0.333333    1.0      1.0       0.0     0.0\n",
       "\n",
       "[1728 rows x 6 columns]"
      ]
     },
     "execution_count": 13,
     "metadata": {},
     "output_type": "execute_result"
    }
   ],
   "source": [
    "from sklearn.preprocessing import StandardScaler, MinMaxScaler\n",
    "\n",
    "scaler = MinMaxScaler()\n",
    "data_minmax = scaler.fit_transform(df.drop('class', axis=1))  \n",
    "df_minmax = pd.DataFrame(data_minmax, columns=df.columns[:-1])  \n",
    "X=df_minmax\n",
    "y=df['class']\n",
    "df_minmax"
   ]
  },
  {
   "cell_type": "code",
   "execution_count": 9,
   "id": "0159dac4-e0ed-4155-b5d2-484d8546050e",
   "metadata": {},
   "outputs": [
    {
     "data": {
      "image/png": "[encoded data removed]",
      "text/plain": [
       "<Figure size 1000x1000 with 1 Axes>"
      ]
     },
     "metadata": {},
     "output_type": "display_data"
    }
   ],
   "source": [
    "df_corr=df.corr()\n",
    "\n",
    "plt.figure(figsize=(10,10))\n",
    "sns.set(font_scale=0.8)\n",
    "sns.heatmap(df_corr, annot=True, cbar=False)\n",
    "plt.show()"
   ]
  },
  {
   "cell_type": "code",
   "execution_count": 14,
   "id": "f5c469aa-7ed4-45c8-9062-9fa53ed05f2b",
   "metadata": {},
   "outputs": [
    {
     "name": "stdout",
     "output_type": "stream",
     "text": [
      "\n",
      "--- KNN Classifier ---\n",
      "0.8121387283236994\n",
      "[[ 64   4   8   2]\n",
      " [ 10   0   0   0]\n",
      " [ 31   0 209   0]\n",
      " [ 10   0   0   8]]\n"
     ]
    }
   ],
   "source": [
    "from sklearn.neighbors import KNeighborsClassifier\n",
    "knn = KNeighborsClassifier(n_neighbors=6)\n",
    "from sklearn.metrics import classification_report,confusion_matrix, accuracy_score\n",
    "\n",
    "X_train, X_test, y_train, y_test = train_test_split(\n",
    "    X,y, test_size=0.2)\n",
    "knn.fit(X_train, y_train)\n",
    "y_pred = knn.predict(X_test)\n",
    "print (\"\\n--- KNN Classifier ---\")\n",
    "print (accuracy_score(y_test, y_pred))\n",
    "print (confusion_matrix(y_test, y_pred))"
   ]
  },
  {
   "cell_type": "code",
   "execution_count": 15,
   "id": "893d4fce-9563-4a9e-938c-0394199bc0e5",
   "metadata": {},
   "outputs": [
    {
     "name": "stdout",
     "output_type": "stream",
     "text": [
      "\n",
      "--- Decision Tree Classifier ---\n",
      "0.976878612716763\n",
      "[[ 76   0   2   0]\n",
      " [  4   6   0   0]\n",
      " [  1   1 238   0]\n",
      " [  0   0   0  18]]\n"
     ]
    }
   ],
   "source": [
    "from sklearn.tree import DecisionTreeClassifier\n",
    "clf_dt = DecisionTreeClassifier(random_state=0)\n",
    "clf_dt.fit(X_train, y_train)\n",
    "\n",
    "pred_dt = clf_dt.predict(X_test)\n",
    "\n",
    "print (\"\\n--- Decision Tree Classifier ---\")\n",
    "print (accuracy_score(y_test, pred_dt))\n",
    "print (confusion_matrix(y_test, pred_dt))"
   ]
  },
  {
   "cell_type": "code",
   "execution_count": 16,
   "id": "045a986c-c604-4ff0-b0f0-0258a0abf0cb",
   "metadata": {},
   "outputs": [
    {
     "name": "stdout",
     "output_type": "stream",
     "text": [
      "\n",
      "--- Logistic Regression Classifier ---\n",
      "0.6676300578034682\n",
      "[[ 13   0  64   1]\n",
      " [  2   0   8   0]\n",
      " [ 22   0 218   0]\n",
      " [  5   0  13   0]]\n"
     ]
    }
   ],
   "source": [
    "from sklearn.linear_model import LogisticRegression\n",
    "from sklearn.svm import SVC\n",
    "from sklearn.metrics import accuracy_score\n",
    "from sklearn.metrics import confusion_matrix\n",
    "clf_lr = LogisticRegression(random_state=0)\n",
    "clf_lr.fit(X_train, y_train)\n",
    "\n",
    "pred_lr = clf_lr.predict(X_test)\n",
    "\n",
    "print (\"\\n--- Logistic Regression Classifier ---\")\n",
    "print (accuracy_score(y_test, pred_lr))\n",
    "print (confusion_matrix(y_test, pred_lr))"
   ]
  },
  {
   "cell_type": "code",
   "execution_count": 17,
   "id": "44629c25-4690-4abb-b0b6-46443621980a",
   "metadata": {},
   "outputs": [
    {
     "name": "stdout",
     "output_type": "stream",
     "text": [
      "\n",
      "--- Radom Forest ---\n",
      "0.9855491329479769\n",
      "[[ 78   0   0   0]\n",
      " [  3   7   0   0]\n",
      " [  2   0 238   0]\n",
      " [  0   0   0  18]]\n"
     ]
    }
   ],
   "source": [
    "from sklearn.ensemble import RandomForestClassifier\n",
    "from sklearn.metrics import accuracy_score\n",
    "import pandas as pd\n",
    "import warnings\n",
    "warnings.filterwarnings('ignore')\n",
    "\n",
    "print (\"\\n--- Radom Forest ---\")\n",
    "rf_clf = RandomForestClassifier(random_state=0)\n",
    "rf_clf.fit(X_train, y_train)\n",
    "pred = rf_clf.predict(X_test)\n",
    "print(accuracy_score(y_test,pred))\n",
    "print (confusion_matrix(y_test, pred))"
   ]
  },
  {
   "cell_type": "code",
   "execution_count": 18,
   "id": "59521f76-3487-4cc6-ae21-c745d887f8ec",
   "metadata": {},
   "outputs": [],
   "source": [
    "Y = pd.get_dummies(y).values\n",
    "X_train, X_test, y_train, y_test = train_test_split(X, Y, test_size=0.2)"
   ]
  },
  {
   "cell_type": "code",
   "execution_count": 19,
   "id": "35c7e581-1699-473c-8906-5cd82dd19b35",
   "metadata": {},
   "outputs": [
    {
     "name": "stderr",
     "output_type": "stream",
     "text": [
      "WARNING:absl:`lr` is deprecated in Keras optimizer, please use `learning_rate` or use the legacy optimizer, e.g.,tf.keras.optimizers.legacy.Adam.\n"
     ]
    },
    {
     "name": "stdout",
     "output_type": "stream",
     "text": [
      "Model: \"sequential\"\n",
      "_________________________________________________________________\n",
      " Layer (type)                Output Shape              Param #   \n",
      "=================================================================\n",
      " dense (Dense)               (None, 108)               756       \n",
      "                                                                 \n",
      " dense_1 (Dense)             (None, 36)                3924      \n",
      "                                                                 \n",
      " dense_2 (Dense)             (None, 12)                444       \n",
      "                                                                 \n",
      " dense_3 (Dense)             (None, 4)                 52        \n",
      "                                                                 \n",
      "=================================================================\n",
      "Total params: 5176 (20.22 KB)\n",
      "Trainable params: 5176 (20.22 KB)\n",
      "Non-trainable params: 0 (0.00 Byte)\n",
      "_________________________________________________________________\n"
     ]
    }
   ],
   "source": [
    "from keras.models import Sequential\n",
    "from keras.layers import Dense\n",
    "from keras.optimizers import SGD,Adam\n",
    "import numpy as np\n",
    "\n",
    "model = Sequential()\n",
    "\n",
    "model.add(Dense(108,input_shape=(6,),activation='relu'))\n",
    "model.add(Dense(36,activation='relu'))\n",
    "model.add(Dense(12,activation='relu'))\n",
    "model.add(Dense(4,activation='softmax'))\n",
    "\n",
    "model.compile(Adam(lr=0.04),'categorical_crossentropy',metrics=['accuracy'])\n",
    "\n",
    "model.summary()"
   ]
  },
  {
   "cell_type": "code",
   "execution_count": 20,
   "id": "7a7e534f-5aae-4086-b16a-64a78383dcca",
   "metadata": {},
   "outputs": [
    {
     "name": "stdout",
     "output_type": "stream",
     "text": [
      "Epoch 1/30\n",
      "20/20 [==============================] - 1s 8ms/step - loss: 1.2355 - accuracy: 0.6259 - val_loss: 1.0352 - val_accuracy: 0.7122\n",
      "Epoch 2/30\n",
      "20/20 [==============================] - 0s 2ms/step - loss: 0.9302 - accuracy: 0.7039 - val_loss: 0.8317 - val_accuracy: 0.7122\n",
      "Epoch 3/30\n",
      "20/20 [==============================] - 0s 2ms/step - loss: 0.8214 - accuracy: 0.7039 - val_loss: 0.7743 - val_accuracy: 0.7122\n",
      "Epoch 4/30\n",
      "20/20 [==============================] - 0s 2ms/step - loss: 0.7686 - accuracy: 0.7039 - val_loss: 0.7256 - val_accuracy: 0.7122\n",
      "Epoch 5/30\n",
      "20/20 [==============================] - 0s 2ms/step - loss: 0.7256 - accuracy: 0.7144 - val_loss: 0.6950 - val_accuracy: 0.7266\n",
      "Epoch 6/30\n",
      "20/20 [==============================] - 0s 2ms/step - loss: 0.6922 - accuracy: 0.7192 - val_loss: 0.6737 - val_accuracy: 0.7410\n",
      "Epoch 7/30\n",
      "20/20 [==============================] - 0s 2ms/step - loss: 0.6705 - accuracy: 0.7216 - val_loss: 0.6537 - val_accuracy: 0.7554\n",
      "Epoch 8/30\n",
      "20/20 [==============================] - 0s 2ms/step - loss: 0.6491 - accuracy: 0.7281 - val_loss: 0.6400 - val_accuracy: 0.7554\n",
      "Epoch 9/30\n",
      "20/20 [==============================] - 0s 4ms/step - loss: 0.6323 - accuracy: 0.7426 - val_loss: 0.6214 - val_accuracy: 0.7482\n",
      "Epoch 10/30\n",
      "20/20 [==============================] - 0s 2ms/step - loss: 0.6140 - accuracy: 0.7418 - val_loss: 0.6039 - val_accuracy: 0.7554\n",
      "Epoch 11/30\n",
      "20/20 [==============================] - 0s 2ms/step - loss: 0.5945 - accuracy: 0.7401 - val_loss: 0.5849 - val_accuracy: 0.7554\n",
      "Epoch 12/30\n",
      "20/20 [==============================] - 0s 2ms/step - loss: 0.5757 - accuracy: 0.7466 - val_loss: 0.5587 - val_accuracy: 0.7698\n",
      "Epoch 13/30\n",
      "20/20 [==============================] - 0s 2ms/step - loss: 0.5498 - accuracy: 0.7627 - val_loss: 0.5297 - val_accuracy: 0.7986\n",
      "Epoch 14/30\n",
      "20/20 [==============================] - 0s 2ms/step - loss: 0.5204 - accuracy: 0.7828 - val_loss: 0.4922 - val_accuracy: 0.8058\n",
      "Epoch 15/30\n",
      "20/20 [==============================] - 0s 2ms/step - loss: 0.4832 - accuracy: 0.8029 - val_loss: 0.4592 - val_accuracy: 0.8273\n",
      "Epoch 16/30\n",
      "20/20 [==============================] - 0s 2ms/step - loss: 0.4504 - accuracy: 0.8270 - val_loss: 0.4239 - val_accuracy: 0.8489\n",
      "Epoch 17/30\n",
      "20/20 [==============================] - 0s 2ms/step - loss: 0.4290 - accuracy: 0.8230 - val_loss: 0.4129 - val_accuracy: 0.8201\n",
      "Epoch 18/30\n",
      "20/20 [==============================] - 0s 2ms/step - loss: 0.3884 - accuracy: 0.8399 - val_loss: 0.3718 - val_accuracy: 0.8561\n",
      "Epoch 19/30\n",
      "20/20 [==============================] - 0s 2ms/step - loss: 0.3658 - accuracy: 0.8576 - val_loss: 0.3676 - val_accuracy: 0.8345\n",
      "Epoch 20/30\n",
      "20/20 [==============================] - 0s 3ms/step - loss: 0.3486 - accuracy: 0.8496 - val_loss: 0.3463 - val_accuracy: 0.8705\n",
      "Epoch 21/30\n",
      "20/20 [==============================] - 0s 2ms/step - loss: 0.3315 - accuracy: 0.8681 - val_loss: 0.3181 - val_accuracy: 0.8777\n",
      "Epoch 22/30\n",
      "20/20 [==============================] - 0s 2ms/step - loss: 0.3129 - accuracy: 0.8640 - val_loss: 0.3120 - val_accuracy: 0.8705\n",
      "Epoch 23/30\n",
      "20/20 [==============================] - 0s 2ms/step - loss: 0.3006 - accuracy: 0.8777 - val_loss: 0.2933 - val_accuracy: 0.8849\n",
      "Epoch 24/30\n",
      "20/20 [==============================] - 0s 2ms/step - loss: 0.2887 - accuracy: 0.8729 - val_loss: 0.2832 - val_accuracy: 0.8849\n",
      "Epoch 25/30\n",
      "20/20 [==============================] - 0s 2ms/step - loss: 0.2750 - accuracy: 0.8785 - val_loss: 0.2795 - val_accuracy: 0.8777\n",
      "Epoch 26/30\n",
      "20/20 [==============================] - 0s 2ms/step - loss: 0.2594 - accuracy: 0.8842 - val_loss: 0.2648 - val_accuracy: 0.8849\n",
      "Epoch 27/30\n",
      "20/20 [==============================] - 0s 2ms/step - loss: 0.2563 - accuracy: 0.8890 - val_loss: 0.2535 - val_accuracy: 0.8777\n",
      "Epoch 28/30\n",
      "20/20 [==============================] - 0s 2ms/step - loss: 0.2445 - accuracy: 0.8986 - val_loss: 0.2450 - val_accuracy: 0.8993\n",
      "Epoch 29/30\n",
      "20/20 [==============================] - 0s 2ms/step - loss: 0.2331 - accuracy: 0.9027 - val_loss: 0.2358 - val_accuracy: 0.8849\n",
      "Epoch 30/30\n",
      "20/20 [==============================] - 0s 2ms/step - loss: 0.2181 - accuracy: 0.9115 - val_loss: 0.2278 - val_accuracy: 0.8993\n",
      "11/11 [==============================] - 0s 616us/step\n"
     ]
    }
   ],
   "source": [
    "model_history=model.fit(x=X_train, y=y_train, epochs=30, batch_size=64,validation_split= 0.1)\n",
    "y_pred = model.predict(X_test)\n",
    "\n",
    "y_test_class = np.argmax(y_test,axis=1)\n",
    "y_pred_class = np.argmax(y_pred,axis=1)"
   ]
  },
  {
   "cell_type": "code",
   "execution_count": 21,
   "id": "977ef32a-42e9-4e1d-88f8-981e4cdbde22",
   "metadata": {},
   "outputs": [
    {
     "data": {
      "image/png": "[encoded data removed]",
      "text/plain": [
       "<Figure size 640x480 with 1 Axes>"
      ]
     },
     "metadata": {},
     "output_type": "display_data"
    }
   ],
   "source": [
    "import matplotlib.pyplot as plt\n",
    "import seaborn as sns\n",
    "\n",
    "loss =model_history.history['loss']\n",
    "val_loss =model_history.history['val_loss']\n",
    "epochs = range(1, len(loss) + 1)\n",
    "\n",
    "plt.plot(epochs, loss, 'y', label='Training loss')\n",
    "plt.plot(epochs, val_loss, 'r', label='Validation loss')\n",
    "plt.title('Training and validation loss')\n",
    "plt.xlabel('Epochs')\n",
    "plt.ylabel('Loss')\n",
    "plt.legend()\n",
    "plt.show()"
   ]
  },
  {
   "cell_type": "code",
   "execution_count": 22,
   "id": "278967db-6c75-4138-8825-823b5cb59108",
   "metadata": {},
   "outputs": [
    {
     "name": "stdout",
     "output_type": "stream",
     "text": [
      "              precision    recall  f1-score   support\n",
      "\n",
      "           0       0.75      0.90      0.81        86\n",
      "           1       0.00      0.00      0.00        12\n",
      "           2       0.96      0.97      0.97       236\n",
      "           3       1.00      0.42      0.59        12\n",
      "\n",
      "    accuracy                           0.90       346\n",
      "   macro avg       0.68      0.57      0.59       346\n",
      "weighted avg       0.88      0.90      0.88       346\n",
      "\n",
      "[[ 77   0   9   0]\n",
      " [ 12   0   0   0]\n",
      " [  7   0 229   0]\n",
      " [  7   0   0   5]]\n"
     ]
    }
   ],
   "source": [
    "from sklearn.metrics import classification_report,confusion_matrix\n",
    "print(classification_report(y_test_class,y_pred_class))\n",
    "print(confusion_matrix(y_test_class,y_pred_class))"
   ]
  },
  {
   "cell_type": "code",
   "execution_count": null,
   "id": "3fcd5263-2053-4610-9356-6b7419637152",
   "metadata": {},
   "outputs": [],
   "source": []
  }
 ],
 "metadata": {
  "kernelspec": {
   "display_name": "Python 3 (ipykernel)",
   "language": "python",
   "name": "python3"
  },
  "language_info": {
   "codemirror_mode": {
    "name": "ipython",
    "version": 3
   },
   "file_extension": ".py",
   "mimetype": "text/x-python",
   "name": "python",
   "nbconvert_exporter": "python",
   "pygments_lexer": "ipython3",
   "version": "3.11.5"
  }
 },
 "nbformat": 4,
 "nbformat_minor": 5
}
