{
 "cells": [
  {
   "cell_type": "code",
   "execution_count": 3,
   "id": "1d9242d0-2642-461c-a966-43940cabff26",
   "metadata": {},
   "outputs": [],
   "source": [
    "#과제- seed데이터로 split sequence사용 전후 cnn, dnn 학습 해보기 책 416p\n",
    "# first neural network with keras tutorial\n",
    "from numpy import loadtxt\n",
    "from tensorflow.keras.models import Sequential\n",
    "from tensorflow.keras.layers import Dense\n",
    "\n",
    "import numpy as np\n",
    "\n",
    "import pandas as pd\n",
    "\n",
    "import seaborn as sns"
   ]
  },
  {
   "cell_type": "code",
   "execution_count": 5,
   "id": "4a47d666-19e9-48c0-9f75-846899ded0b9",
   "metadata": {},
   "outputs": [
    {
     "data": {
      "text/html": [
       "<div>\n",
       "<style scoped>\n",
       "    .dataframe tbody tr th:only-of-type {\n",
       "        vertical-align: middle;\n",
       "    }\n",
       "\n",
       "    .dataframe tbody tr th {\n",
       "        vertical-align: top;\n",
       "    }\n",
       "\n",
       "    .dataframe thead th {\n",
       "        text-align: right;\n",
       "    }\n",
       "</style>\n",
       "<table border=\"1\" class=\"dataframe\">\n",
       "  <thead>\n",
       "    <tr style=\"text-align: right;\">\n",
       "      <th></th>\n",
       "      <th>area</th>\n",
       "      <th>perimeter</th>\n",
       "      <th>compactness</th>\n",
       "      <th>length of kernel</th>\n",
       "      <th>width of kernel</th>\n",
       "      <th>asymmetry coefficient</th>\n",
       "      <th>length of kernel groove</th>\n",
       "      <th>class</th>\n",
       "    </tr>\n",
       "  </thead>\n",
       "  <tbody>\n",
       "    <tr>\n",
       "      <th>0</th>\n",
       "      <td>15.26</td>\n",
       "      <td>14.84</td>\n",
       "      <td>0.8710</td>\n",
       "      <td>5.763</td>\n",
       "      <td>3.312</td>\n",
       "      <td>2.221</td>\n",
       "      <td>5.220</td>\n",
       "      <td>1</td>\n",
       "    </tr>\n",
       "    <tr>\n",
       "      <th>1</th>\n",
       "      <td>14.88</td>\n",
       "      <td>14.57</td>\n",
       "      <td>0.8811</td>\n",
       "      <td>5.554</td>\n",
       "      <td>3.333</td>\n",
       "      <td>1.018</td>\n",
       "      <td>4.956</td>\n",
       "      <td>1</td>\n",
       "    </tr>\n",
       "    <tr>\n",
       "      <th>2</th>\n",
       "      <td>14.29</td>\n",
       "      <td>14.09</td>\n",
       "      <td>0.9050</td>\n",
       "      <td>5.291</td>\n",
       "      <td>3.337</td>\n",
       "      <td>2.699</td>\n",
       "      <td>4.825</td>\n",
       "      <td>1</td>\n",
       "    </tr>\n",
       "    <tr>\n",
       "      <th>3</th>\n",
       "      <td>13.84</td>\n",
       "      <td>13.94</td>\n",
       "      <td>0.8955</td>\n",
       "      <td>5.324</td>\n",
       "      <td>3.379</td>\n",
       "      <td>2.259</td>\n",
       "      <td>4.805</td>\n",
       "      <td>1</td>\n",
       "    </tr>\n",
       "    <tr>\n",
       "      <th>4</th>\n",
       "      <td>16.14</td>\n",
       "      <td>14.99</td>\n",
       "      <td>0.9034</td>\n",
       "      <td>5.658</td>\n",
       "      <td>3.562</td>\n",
       "      <td>1.355</td>\n",
       "      <td>5.175</td>\n",
       "      <td>1</td>\n",
       "    </tr>\n",
       "    <tr>\n",
       "      <th>5</th>\n",
       "      <td>14.38</td>\n",
       "      <td>14.21</td>\n",
       "      <td>0.8951</td>\n",
       "      <td>5.386</td>\n",
       "      <td>3.312</td>\n",
       "      <td>2.462</td>\n",
       "      <td>4.956</td>\n",
       "      <td>1</td>\n",
       "    </tr>\n",
       "    <tr>\n",
       "      <th>6</th>\n",
       "      <td>14.69</td>\n",
       "      <td>14.49</td>\n",
       "      <td>0.8799</td>\n",
       "      <td>5.563</td>\n",
       "      <td>3.259</td>\n",
       "      <td>3.586</td>\n",
       "      <td>5.219</td>\n",
       "      <td>1</td>\n",
       "    </tr>\n",
       "    <tr>\n",
       "      <th>7</th>\n",
       "      <td>14.11</td>\n",
       "      <td>14.10</td>\n",
       "      <td>0.8911</td>\n",
       "      <td>5.420</td>\n",
       "      <td>3.302</td>\n",
       "      <td>2.700</td>\n",
       "      <td>5.000</td>\n",
       "      <td>1</td>\n",
       "    </tr>\n",
       "    <tr>\n",
       "      <th>8</th>\n",
       "      <td>16.63</td>\n",
       "      <td>15.46</td>\n",
       "      <td>0.8747</td>\n",
       "      <td>6.053</td>\n",
       "      <td>3.465</td>\n",
       "      <td>2.040</td>\n",
       "      <td>5.877</td>\n",
       "      <td>1</td>\n",
       "    </tr>\n",
       "    <tr>\n",
       "      <th>9</th>\n",
       "      <td>16.44</td>\n",
       "      <td>15.25</td>\n",
       "      <td>0.8880</td>\n",
       "      <td>5.884</td>\n",
       "      <td>3.505</td>\n",
       "      <td>1.969</td>\n",
       "      <td>5.533</td>\n",
       "      <td>1</td>\n",
       "    </tr>\n",
       "  </tbody>\n",
       "</table>\n",
       "</div>"
      ],
      "text/plain": [
       "   area   perimeter   compactness   length of kernel  width of kernel  \\\n",
       "0  15.26       14.84        0.8710             5.763            3.312   \n",
       "1  14.88       14.57        0.8811             5.554            3.333   \n",
       "2  14.29       14.09        0.9050             5.291            3.337   \n",
       "3  13.84       13.94        0.8955             5.324            3.379   \n",
       "4  16.14       14.99        0.9034             5.658            3.562   \n",
       "5  14.38       14.21        0.8951             5.386            3.312   \n",
       "6  14.69       14.49        0.8799             5.563            3.259   \n",
       "7  14.11       14.10        0.8911             5.420            3.302   \n",
       "8  16.63       15.46        0.8747             6.053            3.465   \n",
       "9  16.44       15.25        0.8880             5.884            3.505   \n",
       "\n",
       "   asymmetry coefficient  length of kernel groove  class  \n",
       "0                  2.221                    5.220      1  \n",
       "1                  1.018                    4.956      1  \n",
       "2                  2.699                    4.825      1  \n",
       "3                  2.259                    4.805      1  \n",
       "4                  1.355                    5.175      1  \n",
       "5                  2.462                    4.956      1  \n",
       "6                  3.586                    5.219      1  \n",
       "7                  2.700                    5.000      1  \n",
       "8                  2.040                    5.877      1  \n",
       "9                  1.969                    5.533      1  "
      ]
     },
     "execution_count": 5,
     "metadata": {},
     "output_type": "execute_result"
    }
   ],
   "source": [
    "\n",
    "column_names = [\"area \", \"perimeter \", \"compactness \", \"length of kernel\", \"width of kernel\", \"asymmetry coefficient\", \"length of kernel groove\", \"class\"]          \n",
    "\n",
    "df = pd.read_csv('seeds_dataset.txt', header=None, names=column_names, delimiter='\\s+')\n",
    "\n",
    "df.head(10)"
   ]
  },
  {
   "cell_type": "code",
   "execution_count": 6,
   "id": "029f2680-14a7-473b-b64f-02632c25a541",
   "metadata": {},
   "outputs": [
    {
     "data": {
      "text/plain": [
       "area                       0\n",
       "perimeter                  0\n",
       "compactness                0\n",
       "length of kernel           0\n",
       "width of kernel            0\n",
       "asymmetry coefficient      0\n",
       "length of kernel groove    0\n",
       "class                      0\n",
       "dtype: int64"
      ]
     },
     "execution_count": 6,
     "metadata": {},
     "output_type": "execute_result"
    }
   ],
   "source": [
    "df.isnull().sum()\n"
   ]
  },
  {
   "cell_type": "code",
   "execution_count": 8,
   "id": "657d09c5-b90e-479e-bb83-b11e88c44ca7",
   "metadata": {},
   "outputs": [
    {
     "data": {
      "text/plain": [
       "array([[15.26  , 14.84  ,  0.871 , ...,  3.312 ,  2.221 ,  5.22  ],\n",
       "       [14.88  , 14.57  ,  0.8811, ...,  3.333 ,  1.018 ,  4.956 ],\n",
       "       [14.29  , 14.09  ,  0.905 , ...,  3.337 ,  2.699 ,  4.825 ],\n",
       "       ...,\n",
       "       [13.2   , 13.66  ,  0.8883, ...,  3.232 ,  8.315 ,  5.056 ],\n",
       "       [11.84  , 13.21  ,  0.8521, ...,  2.836 ,  3.598 ,  5.044 ],\n",
       "       [12.3   , 13.34  ,  0.8684, ...,  2.974 ,  5.637 ,  5.063 ]])"
      ]
     },
     "execution_count": 8,
     "metadata": {},
     "output_type": "execute_result"
    }
   ],
   "source": [
    "X = df.drop('class', axis=1).values\n",
    "Y = df['class']\n",
    "X"
   ]
  },
  {
   "cell_type": "code",
   "execution_count": 9,
   "id": "a7c3bdba-7380-4980-8712-1fefccdb3872",
   "metadata": {},
   "outputs": [],
   "source": [
    "def split_sequences(sequences, n_steps):\n",
    "\tX, y = list(), list()\n",
    "\tfor i in range(len(sequences)):\n",
    "\t\t# find the end of this pattern\n",
    "\t\tend_ix = i + n_steps\n",
    "\t\t# check if we are beyond the dataset\n",
    "\t\tif end_ix > len(sequences):\n",
    "\t\t\tbreak\n",
    "\t\t# gather input and output parts of the pattern\n",
    "\t\tseq_x, seq_y = sequences[i:end_ix, :-1], sequences[end_ix-1, -1]\n",
    "\t\tX.append(seq_x)\n",
    "\t\ty.append(seq_y)\n",
    "\treturn np.array(X), np.array(y)"
   ]
  },
  {
   "cell_type": "code",
   "execution_count": 10,
   "id": "beb308e3-d739-4b27-b93e-719201a77c23",
   "metadata": {},
   "outputs": [
    {
     "name": "stdout",
     "output_type": "stream",
     "text": [
      "(157, 7) (53, 7) (157,) (53,)\n"
     ]
    }
   ],
   "source": [
    "from sklearn.model_selection import train_test_split\n",
    "\n",
    "X_train, X_test, y_train, y_test = train_test_split(X, Y,test_size=0.25,random_state=0)\n",
    "\n",
    "print(X_train.shape, X_test.shape, y_train.shape, y_test.shape)"
   ]
  },
  {
   "cell_type": "code",
   "execution_count": 11,
   "id": "ffd80557-e065-4bce-bfde-8de164bd1492",
   "metadata": {},
   "outputs": [
    {
     "name": "stdout",
     "output_type": "stream",
     "text": [
      "(155, 3, 7) (155,)\n",
      "(51, 3, 7) (51,)\n"
     ]
    }
   ],
   "source": [
    "y_train_array = np.array(y_train)\n",
    "train_set = np.c_[X_train, y_train_array]\n",
    "\n",
    "y_test_array = np.array(y_test)\n",
    "test_set = np.c_[X_test, y_test_array]\n",
    "\n",
    "X_train, y_train = split_sequences(train_set, 3)\n",
    "print(X_train.shape, y_train.shape)\n",
    "\n",
    "X_test, y_test = split_sequences(test_set, 3)\n",
    "print(X_test.shape, y_test.shape)   "
   ]
  },
  {
   "cell_type": "code",
   "execution_count": 12,
   "id": "3d510007-41df-4cbe-81d7-fb3e5ad3d76c",
   "metadata": {},
   "outputs": [
    {
     "name": "stdout",
     "output_type": "stream",
     "text": [
      "(155, 3) (51, 3)\n"
     ]
    }
   ],
   "source": [
    "y_train_onehot = pd.get_dummies(y_train).values\n",
    "y_test_onehot = pd.get_dummies(y_test).values\n",
    "\n",
    "print(y_train_onehot.shape, y_test_onehot.shape)"
   ]
  },
  {
   "cell_type": "code",
   "execution_count": 13,
   "id": "5416e117-5b15-4a92-91d9-6e0d30ba6c6e",
   "metadata": {},
   "outputs": [],
   "source": [
    "\n",
    "import tensorflow as tf\n",
    "from tensorflow import keras\n",
    "from keras.models import Sequential\n",
    "from keras.layers import Dense\n",
    "from keras.optimizers import SGD,Adam\n",
    "\n",
    "from tensorflow.keras.layers import Conv1D\n",
    "from tensorflow.keras.layers import Input\n",
    "from keras.layers import Dense, Flatten, Dropout"
   ]
  },
  {
   "cell_type": "code",
   "execution_count": 15,
   "id": "30a9a9ce-5818-4bb4-a22c-fb47b16fbf32",
   "metadata": {},
   "outputs": [
    {
     "name": "stdout",
     "output_type": "stream",
     "text": [
      "Model: \"model\"\n",
      "_________________________________________________________________\n",
      " Layer (type)                Output Shape              Param #   \n",
      "=================================================================\n",
      " input_1 (InputLayer)        [(None, 3, 7)]            0         \n",
      "                                                                 \n",
      " conv1d (Conv1D)             (None, 1, 64)             1408      \n",
      "                                                                 \n",
      " flatten (Flatten)           (None, 64)                0         \n",
      "                                                                 \n",
      " dense (Dense)               (None, 64)                4160      \n",
      "                                                                 \n",
      " dense_1 (Dense)             (None, 3)                 195       \n",
      "                                                                 \n",
      "=================================================================\n",
      "Total params: 5763 (22.51 KB)\n",
      "Trainable params: 5763 (22.51 KB)\n",
      "Non-trainable params: 0 (0.00 Byte)\n",
      "_________________________________________________________________\n"
     ]
    }
   ],
   "source": [
    "\n",
    "input_layer = Input(shape=(X_train.shape[1], X_train.shape[2]))\n",
    "\n",
    "conv1 = Conv1D(filters=64, kernel_size=3, activation='relu')(input_layer) \n",
    "flat = Flatten()(conv1)\n",
    "dens = Dense(64, activation = \"relu\")(flat)\n",
    "outputs = Dense(3, activation = \"sigmoid\")(dens)\n",
    "\n",
    "model = keras.Model(input_layer, outputs)\n",
    "model.compile(loss='binary_crossentropy', optimizer='adam', metrics=['accuracy'])\n",
    "model.summary()"
   ]
  },
  {
   "cell_type": "code",
   "execution_count": 16,
   "id": "87cfbde9-57f2-4b12-a9af-ec11f709e1a1",
   "metadata": {},
   "outputs": [
    {
     "name": "stdout",
     "output_type": "stream",
     "text": [
      "Epoch 1/30\n",
      "5/5 [==============================] - 1s 29ms/step - loss: 0.7615 - accuracy: 0.3957 - val_loss: 0.6689 - val_accuracy: 0.4375\n",
      "Epoch 2/30\n",
      "5/5 [==============================] - 0s 5ms/step - loss: 0.6412 - accuracy: 0.5036 - val_loss: 0.6048 - val_accuracy: 0.4375\n",
      "Epoch 3/30\n",
      "5/5 [==============================] - 0s 5ms/step - loss: 0.5920 - accuracy: 0.5252 - val_loss: 0.5464 - val_accuracy: 0.5625\n",
      "Epoch 4/30\n",
      "5/5 [==============================] - 0s 6ms/step - loss: 0.5552 - accuracy: 0.5396 - val_loss: 0.5409 - val_accuracy: 0.5000\n",
      "Epoch 5/30\n",
      "5/5 [==============================] - 0s 6ms/step - loss: 0.5402 - accuracy: 0.5540 - val_loss: 0.5210 - val_accuracy: 0.7500\n",
      "Epoch 6/30\n",
      "5/5 [==============================] - 0s 6ms/step - loss: 0.5210 - accuracy: 0.7770 - val_loss: 0.5110 - val_accuracy: 0.5000\n",
      "Epoch 7/30\n",
      "5/5 [==============================] - 0s 6ms/step - loss: 0.5098 - accuracy: 0.6187 - val_loss: 0.5240 - val_accuracy: 0.5625\n",
      "Epoch 8/30\n",
      "5/5 [==============================] - 0s 6ms/step - loss: 0.5015 - accuracy: 0.6331 - val_loss: 0.4939 - val_accuracy: 0.6250\n",
      "Epoch 9/30\n",
      "5/5 [==============================] - 0s 6ms/step - loss: 0.4875 - accuracy: 0.7482 - val_loss: 0.4782 - val_accuracy: 0.7500\n",
      "Epoch 10/30\n",
      "5/5 [==============================] - 0s 6ms/step - loss: 0.4815 - accuracy: 0.7050 - val_loss: 0.4711 - val_accuracy: 0.7500\n",
      "Epoch 11/30\n",
      "5/5 [==============================] - 0s 6ms/step - loss: 0.4645 - accuracy: 0.7410 - val_loss: 0.4648 - val_accuracy: 0.5625\n",
      "Epoch 12/30\n",
      "5/5 [==============================] - 0s 5ms/step - loss: 0.4524 - accuracy: 0.7626 - val_loss: 0.4548 - val_accuracy: 0.8125\n",
      "Epoch 13/30\n",
      "5/5 [==============================] - 0s 7ms/step - loss: 0.4445 - accuracy: 0.7770 - val_loss: 0.4455 - val_accuracy: 0.6875\n",
      "Epoch 14/30\n",
      "5/5 [==============================] - 0s 6ms/step - loss: 0.4376 - accuracy: 0.7626 - val_loss: 0.4418 - val_accuracy: 0.6250\n",
      "Epoch 15/30\n",
      "5/5 [==============================] - 0s 5ms/step - loss: 0.4254 - accuracy: 0.7482 - val_loss: 0.4385 - val_accuracy: 0.6250\n",
      "Epoch 16/30\n",
      "5/5 [==============================] - 0s 8ms/step - loss: 0.4179 - accuracy: 0.7770 - val_loss: 0.4218 - val_accuracy: 0.8125\n",
      "Epoch 17/30\n",
      "5/5 [==============================] - 0s 5ms/step - loss: 0.4087 - accuracy: 0.8058 - val_loss: 0.4166 - val_accuracy: 0.8750\n",
      "Epoch 18/30\n",
      "5/5 [==============================] - 0s 5ms/step - loss: 0.4006 - accuracy: 0.8129 - val_loss: 0.4099 - val_accuracy: 0.8750\n",
      "Epoch 19/30\n",
      "5/5 [==============================] - 0s 5ms/step - loss: 0.3914 - accuracy: 0.8201 - val_loss: 0.4058 - val_accuracy: 0.8125\n",
      "Epoch 20/30\n",
      "5/5 [==============================] - 0s 11ms/step - loss: 0.3840 - accuracy: 0.8273 - val_loss: 0.3987 - val_accuracy: 0.8125\n",
      "Epoch 21/30\n",
      "5/5 [==============================] - 0s 8ms/step - loss: 0.3795 - accuracy: 0.8345 - val_loss: 0.3884 - val_accuracy: 0.8750\n",
      "Epoch 22/30\n",
      "5/5 [==============================] - 0s 9ms/step - loss: 0.3781 - accuracy: 0.8201 - val_loss: 0.3829 - val_accuracy: 0.8750\n",
      "Epoch 23/30\n",
      "5/5 [==============================] - 0s 6ms/step - loss: 0.3805 - accuracy: 0.7986 - val_loss: 0.3909 - val_accuracy: 0.6875\n",
      "Epoch 24/30\n",
      "5/5 [==============================] - 0s 7ms/step - loss: 0.3703 - accuracy: 0.7554 - val_loss: 0.3869 - val_accuracy: 0.8125\n",
      "Epoch 25/30\n",
      "5/5 [==============================] - 0s 7ms/step - loss: 0.3690 - accuracy: 0.7914 - val_loss: 0.3709 - val_accuracy: 0.8125\n",
      "Epoch 26/30\n",
      "5/5 [==============================] - 0s 6ms/step - loss: 0.3555 - accuracy: 0.8129 - val_loss: 0.3938 - val_accuracy: 0.6250\n",
      "Epoch 27/30\n",
      "5/5 [==============================] - 0s 6ms/step - loss: 0.3520 - accuracy: 0.7626 - val_loss: 0.3546 - val_accuracy: 0.8750\n",
      "Epoch 28/30\n",
      "5/5 [==============================] - 0s 6ms/step - loss: 0.3467 - accuracy: 0.8561 - val_loss: 0.3592 - val_accuracy: 0.7500\n",
      "Epoch 29/30\n",
      "5/5 [==============================] - 0s 6ms/step - loss: 0.3474 - accuracy: 0.8417 - val_loss: 0.3561 - val_accuracy: 0.8750\n",
      "Epoch 30/30\n",
      "5/5 [==============================] - 0s 5ms/step - loss: 0.3383 - accuracy: 0.8058 - val_loss: 0.3487 - val_accuracy: 0.8750\n"
     ]
    }
   ],
   "source": [
    "history = model.fit(X_train, y_train_onehot, epochs=30, verbose=True,  validation_split = 0.1)"
   ]
  },
  {
   "cell_type": "code",
   "execution_count": 17,
   "id": "3bb6ef28-ef96-4665-8c3e-c4600582e0e2",
   "metadata": {},
   "outputs": [
    {
     "data": {
      "image/png": "[encoded data removed]",
      "text/plain": [
       "<Figure size 640x480 with 1 Axes>"
      ]
     },
     "metadata": {},
     "output_type": "display_data"
    }
   ],
   "source": [
    "import matplotlib.pyplot as plt\n",
    "import seaborn as sns\n",
    "\n",
    "loss = history.history['loss']\n",
    "val_loss = history.history['val_loss']\n",
    "epochs = range(1, len(loss) + 1)\n",
    "\n",
    "plt.plot(epochs, loss, 'y', label='Training loss')\n",
    "plt.plot(epochs, val_loss, 'r', label='Validation loss')\n",
    "plt.title('Training and validation loss')\n",
    "plt.xlabel('Epochs')\n",
    "plt.ylabel('Loss')\n",
    "plt.legend()\n",
    "plt.show()"
   ]
  },
  {
   "cell_type": "code",
   "execution_count": null,
   "id": "57e7e9cd-b2d1-4f33-965d-e03e2cc5e513",
   "metadata": {},
   "outputs": [],
   "source": []
  }
 ],
 "metadata": {
  "kernelspec": {
   "display_name": "Python 3 (ipykernel)",
   "language": "python",
   "name": "python3"
  },
  "language_info": {
   "codemirror_mode": {
    "name": "ipython",
    "version": 3
   },
   "file_extension": ".py",
   "mimetype": "text/x-python",
   "name": "python",
   "nbconvert_exporter": "python",
   "pygments_lexer": "ipython3",
   "version": "3.11.5"
  }
 },
 "nbformat": 4,
 "nbformat_minor": 5
}
