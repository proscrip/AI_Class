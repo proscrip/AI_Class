{
 "cells": [
  {
   "cell_type": "code",
   "execution_count": 58,
   "id": "2d1b1b59-a820-4960-adb5-38fa7773c5cc",
   "metadata": {},
   "outputs": [
    {
     "name": "stdout",
     "output_type": "stream",
     "text": [
      "              precision    recall  f1-score   support\n",
      "\n",
      "           0       1.00      1.00      1.00        42\n",
      "           1       0.94      1.00      0.97        31\n",
      "           2       1.00      1.00      1.00        30\n",
      "           3       1.00      1.00      1.00        43\n",
      "           4       1.00      0.95      0.98        42\n",
      "           5       0.96      1.00      0.98        24\n",
      "           6       1.00      1.00      1.00        35\n",
      "           7       0.98      1.00      0.99        43\n",
      "           8       0.97      0.94      0.95        32\n",
      "           9       1.00      0.97      0.99        38\n",
      "\n",
      "    accuracy                           0.99       360\n",
      "   macro avg       0.98      0.99      0.99       360\n",
      "weighted avg       0.99      0.99      0.99       360\n",
      "\n",
      "\n"
     ]
    }
   ],
   "source": [
    "import matplotlib.pyplot as plt\n",
    "import numpy as np\n",
    "from sklearn import datasets, metrics\n",
    "from sklearn.model_selection import train_test_split\n",
    "import pandas as pd\n",
    "\n",
    "digits = datasets.load_digits()\n",
    "n_samples = len(digits.images)\n",
    "data = digits.images.reshape((n_samples, -1))\n",
    "\n",
    "from sklearn.neighbors import KNeighborsClassifier\n",
    "knn = KNeighborsClassifier(n_neighbors=6)\n",
    "\n",
    "#Y = pd.get_dummies(y).values\n",
    "X_train, X_test, y_train, y_test = train_test_split(\n",
    "    data, digits.target, test_size=0.2)\n",
    "knn.fit(X_train, y_train)\n",
    "y_pred = knn.predict(X_test)\n",
    "print(f\"{metrics.classification_report(y_test, y_pred)}\\n\")"
   ]
  },
  {
   "cell_type": "code",
   "execution_count": 3,
   "id": "dd904f97-aa57-4749-b266-f44ce0dc2baf",
   "metadata": {},
   "outputs": [],
   "source": [
    "from sklearn.linear_model import LinearRegression\n",
    "from sklearn.svm import SVC\n",
    "from sklearn.neural_network import MLPClassifier\n",
    "from sklearn.tree import DecisionTreeClassifier\n",
    "from sklearn.metrics import *\n",
    "from sklearn.metrics import confusion_matrix\n",
    "from sklearn.model_selection import train_test_split\n",
    "from sklearn.metrics import mean_squared_error"
   ]
  },
  {
   "cell_type": "code",
   "execution_count": 5,
   "id": "8dc36dcd-07eb-4f50-b1f5-e63f9678322b",
   "metadata": {},
   "outputs": [
    {
     "name": "stdout",
     "output_type": "stream",
     "text": [
      "\n",
      "--- Linear Regression MSE ---\n",
      "Mean Squared Error: 4.044405616447345\n"
     ]
    }
   ],
   "source": [
    "lr = LinearRegression()\n",
    "lr.fit(X_train, y_train)\n",
    "lr.score(X_test, y_test)\n",
    "pred_lr = lr.predict(X_test)\n",
    "print (\"\\n--- Linear Regression MSE ---\")\n",
    "mse = mean_squared_error(y_test, pred_lr)\n",
    "print(\"Mean Squared Error:\", mse)"
   ]
  },
  {
   "cell_type": "code",
   "execution_count": 47,
   "id": "f2826409-b38b-45e8-9e95-8201aee8da7c",
   "metadata": {},
   "outputs": [
    {
     "name": "stdout",
     "output_type": "stream",
     "text": [
      "\n",
      "--- Decision Tree Classifier ---\n",
      "0.8694444444444445\n",
      "[[40  0  0  0  1  0  0  0  0  0]\n",
      " [ 0 33  0  1  1  0  0  1  2  1]\n",
      " [ 0  0 27  1  0  0  0  0  0  0]\n",
      " [ 0  0  0 31  0  0  0  0  0  1]\n",
      " [ 0  2  0  0 27  1  0  1  1  0]\n",
      " [ 0  0  0  0  1 35  1  0  1  1]\n",
      " [ 0  0  0  1  3  0 34  0  0  0]\n",
      " [ 0  1  1  0  1  1  0 27  2  0]\n",
      " [ 0  2  4  1  1  2  0  0 31  2]\n",
      " [ 1  1  0  1  0  1  0  0  3 28]]\n"
     ]
    }
   ],
   "source": [
    "clf_dt = DecisionTreeClassifier(random_state=0)\n",
    "clf_dt.fit(X_train, y_train)\n",
    "\n",
    "pred_dt = clf_dt.predict(X_test)\n",
    "\n",
    "print (\"\\n--- Decision Tree Classifier ---\")\n",
    "print (accuracy_score(y_test, pred_dt))\n",
    "print (confusion_matrix(y_test.argmax(axis=1), pred_dt.argmax(axis=1)))"
   ]
  },
  {
   "cell_type": "code",
   "execution_count": 59,
   "id": "adc01044-f1b1-4be3-a9da-52591003bfde",
   "metadata": {},
   "outputs": [
    {
     "name": "stdout",
     "output_type": "stream",
     "text": [
      "\n",
      "--- Radom Forest ---\n",
      "0.975\n"
     ]
    },
    {
     "ename": "AxisError",
     "evalue": "axis 1 is out of bounds for array of dimension 1",
     "output_type": "error",
     "traceback": [
      "\u001b[1;31m---------------------------------------------------------------------------\u001b[0m",
      "\u001b[1;31mAxisError\u001b[0m                                 Traceback (most recent call last)",
      "Cell \u001b[1;32mIn[59], line 12\u001b[0m\n\u001b[0;32m     10\u001b[0m pred \u001b[38;5;241m=\u001b[39m rf_clf\u001b[38;5;241m.\u001b[39mpredict(X_test)\n\u001b[0;32m     11\u001b[0m \u001b[38;5;28mprint\u001b[39m(accuracy_score(y_test,pred))\n\u001b[1;32m---> 12\u001b[0m \u001b[38;5;28mprint\u001b[39m (confusion_matrix(y_test\u001b[38;5;241m.\u001b[39margmax(axis\u001b[38;5;241m=\u001b[39m\u001b[38;5;241m1\u001b[39m), pred\u001b[38;5;241m.\u001b[39margmax(axis\u001b[38;5;241m=\u001b[39m\u001b[38;5;241m1\u001b[39m)))\n",
      "\u001b[1;31mAxisError\u001b[0m: axis 1 is out of bounds for array of dimension 1"
     ]
    }
   ],
   "source": [
    "from sklearn.ensemble import RandomForestClassifier\n",
    "from sklearn.metrics import accuracy_score\n",
    "import pandas as pd\n",
    "import warnings\n",
    "warnings.filterwarnings('ignore')\n",
    "\n",
    "print (\"\\n--- Radom Forest ---\")\n",
    "rf_clf = RandomForestClassifier(random_state=0)\n",
    "rf_clf.fit(X_train, y_train)\n",
    "pred = rf_clf.predict(X_test)\n",
    "print(accuracy_score(y_test,pred))\n",
    "print (confusion_matrix(y_test.argmax(axis=1), pred.argmax(axis=1)))\n",
    "\n"
   ]
  },
  {
   "cell_type": "code",
   "execution_count": 61,
   "id": "d65db46c-6dd3-4404-a08e-296eccec9608",
   "metadata": {},
   "outputs": [
    {
     "name": "stdout",
     "output_type": "stream",
     "text": [
      "\n",
      "--- Logistic Regression Classifier ---\n",
      "0.9694444444444444\n",
      "[[42  0  0  0  0  0  0  0  0  0]\n",
      " [ 0 31  0  0  0  0  0  0  0  0]\n",
      " [ 0  0 28  2  0  0  0  0  0  0]\n",
      " [ 0  0  1 41  0  0  0  0  0  1]\n",
      " [ 1  0  0  0 38  0  0  0  1  2]\n",
      " [ 0  0  0  0  0 24  0  0  0  0]\n",
      " [ 0  0  0  0  0  0 35  0  0  0]\n",
      " [ 0  0  0  1  0  0  0 41  0  1]\n",
      " [ 0  0  0  0  0  0  0  0 32  0]\n",
      " [ 0  0  0  0  0  0  0  1  0 37]]\n"
     ]
    }
   ],
   "source": [
    "from sklearn.linear_model import LogisticRegression\n",
    "from sklearn.svm import SVC\n",
    "from sklearn.neural_network import MLPClassifier\n",
    "from sklearn.tree import DecisionTreeClassifier\n",
    "from sklearn.metrics import accuracy_score\n",
    "from sklearn.metrics import confusion_matrix\n",
    "clf_lr = LogisticRegression(random_state=0)\n",
    "clf_lr.fit(X_train, y_train)\n",
    "\n",
    "pred_lr = clf_lr.predict(X_test)\n",
    "\n",
    "print (\"\\n--- Logistic Regression Classifier ---\")\n",
    "print (accuracy_score(y_test, pred_lr))\n",
    "print (confusion_matrix(y_test, pred_lr))"
   ]
  },
  {
   "cell_type": "code",
   "execution_count": 50,
   "id": "b041355d-82d8-4403-9ab4-b9101c884a3a",
   "metadata": {},
   "outputs": [
    {
     "name": "stderr",
     "output_type": "stream",
     "text": [
      "WARNING:absl:`lr` is deprecated in Keras optimizer, please use `learning_rate` or use the legacy optimizer, e.g.,tf.keras.optimizers.legacy.Adam.\n"
     ]
    },
    {
     "name": "stdout",
     "output_type": "stream",
     "text": [
      "Model: \"sequential_4\"\n",
      "_________________________________________________________________\n",
      " Layer (type)                Output Shape              Param #   \n",
      "=================================================================\n",
      " dense_16 (Dense)            (None, 256)               16640     \n",
      "                                                                 \n",
      " dense_17 (Dense)            (None, 64)                16448     \n",
      "                                                                 \n",
      " dense_18 (Dense)            (None, 16)                1040      \n",
      "                                                                 \n",
      " dense_19 (Dense)            (None, 10)                170       \n",
      "                                                                 \n",
      "=================================================================\n",
      "Total params: 34298 (133.98 KB)\n",
      "Trainable params: 34298 (133.98 KB)\n",
      "Non-trainable params: 0 (0.00 Byte)\n",
      "_________________________________________________________________\n"
     ]
    }
   ],
   "source": [
    "from keras.models import Sequential\n",
    "from keras.layers import Dense\n",
    "from keras.optimizers import SGD,Adam\n",
    "\n",
    "\n",
    "model = Sequential()\n",
    "\n",
    "model.add(Dense(256,input_shape=(64,),activation='tanh'))\n",
    "model.add(Dense(64,activation='tanh'))\n",
    "model.add(Dense(16,activation='tanh'))\n",
    "model.add(Dense(10,activation='softmax'))\n",
    "\n",
    "model.compile(Adam(lr=0.04),'categorical_crossentropy',metrics=['accuracy'])\n",
    "\n",
    "model.summary()"
   ]
  },
  {
   "cell_type": "code",
   "execution_count": 62,
   "id": "c54f5e25-047f-4edc-874a-b81b484939a9",
   "metadata": {},
   "outputs": [
    {
     "name": "stdout",
     "output_type": "stream",
     "text": [
      "Epoch 1/30\n",
      "21/21 [==============================] - 0s 5ms/step - loss: 0.0393 - accuracy: 0.9946 - val_loss: 0.0451 - val_accuracy: 0.9931\n",
      "Epoch 2/30\n",
      "21/21 [==============================] - 0s 3ms/step - loss: 0.0316 - accuracy: 0.9969 - val_loss: 0.0599 - val_accuracy: 0.9931\n",
      "Epoch 3/30\n",
      "21/21 [==============================] - 0s 3ms/step - loss: 0.0253 - accuracy: 0.9992 - val_loss: 0.0446 - val_accuracy: 0.9931\n",
      "Epoch 4/30\n",
      "21/21 [==============================] - 0s 3ms/step - loss: 0.0204 - accuracy: 0.9985 - val_loss: 0.0554 - val_accuracy: 0.9931\n",
      "Epoch 5/30\n",
      "21/21 [==============================] - 0s 3ms/step - loss: 0.0173 - accuracy: 0.9992 - val_loss: 0.0372 - val_accuracy: 0.9931\n",
      "Epoch 6/30\n",
      "21/21 [==============================] - 0s 2ms/step - loss: 0.0143 - accuracy: 1.0000 - val_loss: 0.0433 - val_accuracy: 0.9931\n",
      "Epoch 7/30\n",
      "21/21 [==============================] - 0s 2ms/step - loss: 0.0131 - accuracy: 1.0000 - val_loss: 0.0383 - val_accuracy: 0.9931\n",
      "Epoch 8/30\n",
      "21/21 [==============================] - 0s 2ms/step - loss: 0.0121 - accuracy: 1.0000 - val_loss: 0.0390 - val_accuracy: 0.9931\n",
      "Epoch 9/30\n",
      "21/21 [==============================] - 0s 2ms/step - loss: 0.0115 - accuracy: 1.0000 - val_loss: 0.0381 - val_accuracy: 0.9931\n",
      "Epoch 10/30\n",
      "21/21 [==============================] - 0s 2ms/step - loss: 0.0110 - accuracy: 1.0000 - val_loss: 0.0376 - val_accuracy: 0.9931\n",
      "Epoch 11/30\n",
      "21/21 [==============================] - 0s 2ms/step - loss: 0.0105 - accuracy: 1.0000 - val_loss: 0.0379 - val_accuracy: 0.9931\n",
      "Epoch 12/30\n",
      "21/21 [==============================] - 0s 2ms/step - loss: 0.0100 - accuracy: 1.0000 - val_loss: 0.0384 - val_accuracy: 0.9931\n",
      "Epoch 13/30\n",
      "21/21 [==============================] - 0s 2ms/step - loss: 0.0096 - accuracy: 1.0000 - val_loss: 0.0379 - val_accuracy: 0.9931\n",
      "Epoch 14/30\n",
      "21/21 [==============================] - 0s 2ms/step - loss: 0.0092 - accuracy: 1.0000 - val_loss: 0.0381 - val_accuracy: 0.9931\n",
      "Epoch 15/30\n",
      "21/21 [==============================] - 0s 3ms/step - loss: 0.0088 - accuracy: 1.0000 - val_loss: 0.0384 - val_accuracy: 0.9931\n",
      "Epoch 16/30\n",
      "21/21 [==============================] - 0s 2ms/step - loss: 0.0085 - accuracy: 1.0000 - val_loss: 0.0376 - val_accuracy: 0.9931\n",
      "Epoch 17/30\n",
      "21/21 [==============================] - 0s 2ms/step - loss: 0.0082 - accuracy: 1.0000 - val_loss: 0.0374 - val_accuracy: 0.9931\n",
      "Epoch 18/30\n",
      "21/21 [==============================] - 0s 2ms/step - loss: 0.0079 - accuracy: 1.0000 - val_loss: 0.0376 - val_accuracy: 0.9931\n",
      "Epoch 19/30\n",
      "21/21 [==============================] - 0s 2ms/step - loss: 0.0076 - accuracy: 1.0000 - val_loss: 0.0373 - val_accuracy: 0.9931\n",
      "Epoch 20/30\n",
      "21/21 [==============================] - 0s 2ms/step - loss: 0.0073 - accuracy: 1.0000 - val_loss: 0.0377 - val_accuracy: 0.9931\n",
      "Epoch 21/30\n",
      "21/21 [==============================] - 0s 2ms/step - loss: 0.0071 - accuracy: 1.0000 - val_loss: 0.0379 - val_accuracy: 0.9931\n",
      "Epoch 22/30\n",
      "21/21 [==============================] - 0s 3ms/step - loss: 0.0069 - accuracy: 1.0000 - val_loss: 0.0379 - val_accuracy: 0.9931\n",
      "Epoch 23/30\n",
      "21/21 [==============================] - 0s 2ms/step - loss: 0.0066 - accuracy: 1.0000 - val_loss: 0.0372 - val_accuracy: 0.9931\n",
      "Epoch 24/30\n",
      "21/21 [==============================] - 0s 3ms/step - loss: 0.0064 - accuracy: 1.0000 - val_loss: 0.0372 - val_accuracy: 0.9931\n",
      "Epoch 25/30\n",
      "21/21 [==============================] - 0s 3ms/step - loss: 0.0062 - accuracy: 1.0000 - val_loss: 0.0373 - val_accuracy: 0.9931\n",
      "Epoch 26/30\n",
      "21/21 [==============================] - 0s 3ms/step - loss: 0.0060 - accuracy: 1.0000 - val_loss: 0.0374 - val_accuracy: 0.9931\n",
      "Epoch 27/30\n",
      "21/21 [==============================] - 0s 3ms/step - loss: 0.0059 - accuracy: 1.0000 - val_loss: 0.0377 - val_accuracy: 0.9931\n",
      "Epoch 28/30\n",
      "21/21 [==============================] - 0s 3ms/step - loss: 0.0057 - accuracy: 1.0000 - val_loss: 0.0374 - val_accuracy: 0.9931\n",
      "Epoch 29/30\n",
      "21/21 [==============================] - 0s 3ms/step - loss: 0.0055 - accuracy: 1.0000 - val_loss: 0.0374 - val_accuracy: 0.9931\n",
      "Epoch 30/30\n",
      "21/21 [==============================] - 0s 3ms/step - loss: 0.0054 - accuracy: 1.0000 - val_loss: 0.0375 - val_accuracy: 0.9931\n",
      "12/12 [==============================] - 0s 796us/step\n"
     ]
    }
   ],
   "source": [
    "y_train = pd.get_dummies(y_train).values\n",
    "y_test = pd.get_dummies(y_test).values\n",
    "model_history=model.fit(x=X_train, y=y_train, epochs=30, batch_size=64,validation_split= 0.1)\n",
    "y_pred = model.predict(X_test)\n",
    "\n",
    "y_test_class = np.argmax(y_test,axis=1)\n",
    "y_pred_class = np.argmax(y_pred,axis=1)"
   ]
  },
  {
   "cell_type": "code",
   "execution_count": 63,
   "id": "99b89af2-076b-4b38-962e-9180f6becc5a",
   "metadata": {},
   "outputs": [
    {
     "name": "stdout",
     "output_type": "stream",
     "text": [
      "              precision    recall  f1-score   support\n",
      "\n",
      "           0       1.00      1.00      1.00        42\n",
      "           1       1.00      1.00      1.00        31\n",
      "           2       1.00      1.00      1.00        30\n",
      "           3       1.00      1.00      1.00        43\n",
      "           4       1.00      0.98      0.99        42\n",
      "           5       1.00      1.00      1.00        24\n",
      "           6       1.00      1.00      1.00        35\n",
      "           7       1.00      1.00      1.00        43\n",
      "           8       0.97      1.00      0.98        32\n",
      "           9       1.00      1.00      1.00        38\n",
      "\n",
      "    accuracy                           1.00       360\n",
      "   macro avg       1.00      1.00      1.00       360\n",
      "weighted avg       1.00      1.00      1.00       360\n",
      "\n",
      "[[42  0  0  0  0  0  0  0  0  0]\n",
      " [ 0 31  0  0  0  0  0  0  0  0]\n",
      " [ 0  0 30  0  0  0  0  0  0  0]\n",
      " [ 0  0  0 43  0  0  0  0  0  0]\n",
      " [ 0  0  0  0 41  0  0  0  1  0]\n",
      " [ 0  0  0  0  0 24  0  0  0  0]\n",
      " [ 0  0  0  0  0  0 35  0  0  0]\n",
      " [ 0  0  0  0  0  0  0 43  0  0]\n",
      " [ 0  0  0  0  0  0  0  0 32  0]\n",
      " [ 0  0  0  0  0  0  0  0  0 38]]\n"
     ]
    }
   ],
   "source": [
    "from sklearn.metrics import classification_report,confusion_matrix\n",
    "print(classification_report(y_test_class,y_pred_class))\n",
    "print(confusion_matrix(y_test_class,y_pred_class))"
   ]
  },
  {
   "cell_type": "code",
   "execution_count": 20,
   "id": "c29dffa1-cee9-4dc8-ab7d-32f758058b76",
   "metadata": {},
   "outputs": [
    {
     "data": {
      "text/plain": [
       "(360, 64)"
      ]
     },
     "execution_count": 20,
     "metadata": {},
     "output_type": "execute_result"
    }
   ],
   "source": [
    "X_test.shape"
   ]
  },
  {
   "cell_type": "code",
   "execution_count": 27,
   "id": "4377f555-5b0b-435c-b2ad-3e2e82491cfb",
   "metadata": {},
   "outputs": [
    {
     "name": "stdout",
     "output_type": "stream",
     "text": [
      "12/12 [==============================] - 0s 885us/step\n"
     ]
    },
    {
     "data": {
      "text/plain": [
       "array([[1.9250115e-04, 2.1157485e-04, 6.0930592e-04, ..., 6.5763752e-06,\n",
       "        9.0508729e-05, 4.3204942e-05],\n",
       "       [4.7750941e-06, 8.0445735e-04, 6.5510283e-04, ..., 1.1065172e-03,\n",
       "        2.2088310e-04, 1.2786385e-03],\n",
       "       [2.5955915e-05, 9.9563271e-01, 5.9052801e-04, ..., 2.4198787e-05,\n",
       "        9.0038497e-04, 5.2732012e-05],\n",
       "       ...,\n",
       "       [6.1798596e-06, 1.2693080e-03, 3.5070307e-03, ..., 5.0151171e-03,\n",
       "        2.7034007e-04, 8.1821840e-04],\n",
       "       [1.9027966e-03, 5.8030855e-05, 2.4718331e-05, ..., 5.1768799e-03,\n",
       "        2.1811592e-04, 4.7917757e-04],\n",
       "       [4.6690536e-04, 1.3452390e-04, 1.3449760e-03, ..., 1.5354564e-05,\n",
       "        2.1692584e-04, 3.2470787e-05]], dtype=float32)"
      ]
     },
     "execution_count": 27,
     "metadata": {},
     "output_type": "execute_result"
    }
   ],
   "source": [
    "model.predict(X_test)"
   ]
  },
  {
   "cell_type": "code",
   "execution_count": 29,
   "id": "9cf9d199-acf0-4917-86ed-24e86f0b3e20",
   "metadata": {},
   "outputs": [
    {
     "data": {
      "text/plain": [
       "array([ 0.,  0.,  7., 15., 15.,  2.,  0.,  0.,  0.,  0., 13.,  6., 12.,\n",
       "        6.,  0.,  0.,  0.,  0.,  0.,  0., 15.,  2.,  0.,  0.,  0.,  0.,\n",
       "        0., 13., 10.,  0.,  0.,  0.,  0.,  0.,  0.,  8., 15., 12.,  0.,\n",
       "        0.,  0.,  3.,  7.,  0.,  2., 15.,  1.,  0.,  0.,  2., 15.,  6.,\n",
       "        6., 16.,  1.,  0.,  0.,  0.,  4., 15., 16.,  7.,  0.,  0.])"
      ]
     },
     "execution_count": 29,
     "metadata": {},
     "output_type": "execute_result"
    }
   ],
   "source": [
    "X_test[1]"
   ]
  },
  {
   "cell_type": "code",
   "execution_count": 26,
   "id": "16efd2d4-09db-4dd9-9adc-19a882589f49",
   "metadata": {},
   "outputs": [
    {
     "data": {
      "text/plain": [
       "array([[ 0.,  0.,  2., ..., 16., 12.,  1.],\n",
       "       [ 0.,  0.,  7., ...,  7.,  0.,  0.],\n",
       "       [ 0.,  0.,  3., ...,  0.,  0.,  0.],\n",
       "       ...,\n",
       "       [ 0.,  0.,  9., ...,  0.,  0.,  0.],\n",
       "       [ 0.,  0.,  0., ...,  0.,  0.,  0.],\n",
       "       [ 0.,  0.,  2., ..., 14.,  4.,  0.]])"
      ]
     },
     "execution_count": 26,
     "metadata": {},
     "output_type": "execute_result"
    }
   ],
   "source": [
    "X_test"
   ]
  },
  {
   "cell_type": "code",
   "execution_count": null,
   "id": "0254f870-8e35-48d1-88f0-3ffdafec1097",
   "metadata": {},
   "outputs": [],
   "source": []
  }
 ],
 "metadata": {
  "kernelspec": {
   "display_name": "Python 3 (ipykernel)",
   "language": "python",
   "name": "python3"
  },
  "language_info": {
   "codemirror_mode": {
    "name": "ipython",
    "version": 3
   },
   "file_extension": ".py",
   "mimetype": "text/x-python",
   "name": "python",
   "nbconvert_exporter": "python",
   "pygments_lexer": "ipython3",
   "version": "3.11.5"
  }
 },
 "nbformat": 4,
 "nbformat_minor": 5
}
