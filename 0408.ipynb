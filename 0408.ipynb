{
 "cells": [
  {
   "cell_type": "code",
   "execution_count": null,
   "id": "fbd2c10d-1211-4bf4-8f8f-605803dbb24b",
   "metadata": {},
   "outputs": [],
   "source": []
  },
  {
   "cell_type": "code",
   "execution_count": 11,
   "id": "d5c4cb8b-b519-41c4-b047-0159edaa6cdf",
   "metadata": {},
   "outputs": [
    {
     "name": "stdout",
     "output_type": "stream",
     "text": [
      "[[ True False False ... False False False]\n",
      " [False  True False ... False False False]\n",
      " [False False  True ... False False False]\n",
      " ...\n",
      " [False False False ... False  True False]\n",
      " [False False False ... False False  True]\n",
      " [False False False ... False  True False]]\n"
     ]
    }
   ],
   "source": [
    "import matplotlib.pyplot as plt\n",
    "from sklearn.metrics import classification_report,confusion_matrix\n",
    "from sklearn import datasets, metrics\n",
    "from sklearn.model_selection import train_test_split\n",
    "import pandas as pd\n",
    "\n",
    "digits = datasets.load_digits()\n",
    "n_samples = len(digits.images)\n",
    "X = digits.images.reshape((n_samples, -1))\n",
    "\n",
    "y = digits.target\n",
    "\n",
    "Y = pd.get_dummies(y).values\n",
    "\n",
    "print(Y)\n",
    "X_train, X_test, y_train, y_test = train_test_split(X, Y, test_size=0.2)"
   ]
  },
  {
   "cell_type": "code",
   "execution_count": 10,
   "id": "b7728c9a-d2ec-40e2-850e-30a8c87f58f1",
   "metadata": {},
   "outputs": [
    {
     "name": "stderr",
     "output_type": "stream",
     "text": [
      "WARNING:absl:`lr` is deprecated in Keras optimizer, please use `learning_rate` or use the legacy optimizer, e.g.,tf.keras.optimizers.legacy.Adam.\n"
     ]
    },
    {
     "name": "stdout",
     "output_type": "stream",
     "text": [
      "Model: \"sequential_1\"\n",
      "_________________________________________________________________\n",
      " Layer (type)                Output Shape              Param #   \n",
      "=================================================================\n",
      " dense_4 (Dense)             (None, 192)               12480     \n",
      "                                                                 \n",
      " dense_5 (Dense)             (None, 48)                9264      \n",
      "                                                                 \n",
      " dense_6 (Dense)             (None, 24)                1176      \n",
      "                                                                 \n",
      " dense_7 (Dense)             (None, 10)                250       \n",
      "                                                                 \n",
      "=================================================================\n",
      "Total params: 23170 (90.51 KB)\n",
      "Trainable params: 23170 (90.51 KB)\n",
      "Non-trainable params: 0 (0.00 Byte)\n",
      "_________________________________________________________________\n"
     ]
    }
   ],
   "source": [
    "from keras.models import Sequential\n",
    "from keras.layers import Dense\n",
    "from keras.optimizers import SGD,Adam\n",
    "import numpy as np\n",
    "\n",
    "model = Sequential()\n",
    "\n",
    "model.add(Dense(192,input_shape=(64,),activation='relu'))\n",
    "model.add(Dense(48,activation='relu'))\n",
    "model.add(Dense(24,activation='relu'))\n",
    "model.add(Dense(10,activation='softmax'))\n",
    "\n",
    "model.compile(Adam(lr=0.04),'categorical_crossentropy',metrics=['accuracy'])\n",
    "\n",
    "model.summary()"
   ]
  },
  {
   "cell_type": "code",
   "execution_count": 12,
   "id": "0acad7d0-ba7f-4f9d-bb54-a6e8c833ccd3",
   "metadata": {},
   "outputs": [
    {
     "name": "stdout",
     "output_type": "stream",
     "text": [
      "Epoch 1/30\n",
      "21/21 [==============================] - 1s 7ms/step - loss: 2.1513 - accuracy: 0.3751 - val_loss: 1.2631 - val_accuracy: 0.6181\n",
      "Epoch 2/30\n",
      "21/21 [==============================] - 0s 2ms/step - loss: 0.9441 - accuracy: 0.7363 - val_loss: 0.5669 - val_accuracy: 0.8542\n",
      "Epoch 3/30\n",
      "21/21 [==============================] - 0s 2ms/step - loss: 0.4155 - accuracy: 0.8824 - val_loss: 0.2857 - val_accuracy: 0.9167\n",
      "Epoch 4/30\n",
      "21/21 [==============================] - 0s 2ms/step - loss: 0.2018 - accuracy: 0.9474 - val_loss: 0.1542 - val_accuracy: 0.9583\n",
      "Epoch 5/30\n",
      "21/21 [==============================] - 0s 2ms/step - loss: 0.1152 - accuracy: 0.9737 - val_loss: 0.1130 - val_accuracy: 0.9653\n",
      "Epoch 6/30\n",
      "21/21 [==============================] - 0s 1ms/step - loss: 0.0727 - accuracy: 0.9838 - val_loss: 0.1093 - val_accuracy: 0.9722\n",
      "Epoch 7/30\n",
      "21/21 [==============================] - 0s 1ms/step - loss: 0.0562 - accuracy: 0.9907 - val_loss: 0.0706 - val_accuracy: 0.9792\n",
      "Epoch 8/30\n",
      "21/21 [==============================] - 0s 2ms/step - loss: 0.0365 - accuracy: 0.9969 - val_loss: 0.0799 - val_accuracy: 0.9653\n",
      "Epoch 9/30\n",
      "21/21 [==============================] - 0s 1ms/step - loss: 0.0271 - accuracy: 0.9969 - val_loss: 0.0716 - val_accuracy: 0.9792\n",
      "Epoch 10/30\n",
      "21/21 [==============================] - 0s 2ms/step - loss: 0.0199 - accuracy: 0.9992 - val_loss: 0.0902 - val_accuracy: 0.9792\n",
      "Epoch 11/30\n",
      "21/21 [==============================] - 0s 1ms/step - loss: 0.0209 - accuracy: 0.9969 - val_loss: 0.0813 - val_accuracy: 0.9722\n",
      "Epoch 12/30\n",
      "21/21 [==============================] - 0s 2ms/step - loss: 0.0147 - accuracy: 1.0000 - val_loss: 0.0837 - val_accuracy: 0.9722\n",
      "Epoch 13/30\n",
      "21/21 [==============================] - 0s 2ms/step - loss: 0.0120 - accuracy: 1.0000 - val_loss: 0.0732 - val_accuracy: 0.9792\n",
      "Epoch 14/30\n",
      "21/21 [==============================] - 0s 2ms/step - loss: 0.0092 - accuracy: 1.0000 - val_loss: 0.0658 - val_accuracy: 0.9792\n",
      "Epoch 15/30\n",
      "21/21 [==============================] - 0s 1ms/step - loss: 0.0080 - accuracy: 1.0000 - val_loss: 0.0673 - val_accuracy: 0.9722\n",
      "Epoch 16/30\n",
      "21/21 [==============================] - 0s 1ms/step - loss: 0.0066 - accuracy: 1.0000 - val_loss: 0.0718 - val_accuracy: 0.9722\n",
      "Epoch 17/30\n",
      "21/21 [==============================] - 0s 2ms/step - loss: 0.0058 - accuracy: 1.0000 - val_loss: 0.0657 - val_accuracy: 0.9792\n",
      "Epoch 18/30\n",
      "21/21 [==============================] - 0s 1ms/step - loss: 0.0050 - accuracy: 1.0000 - val_loss: 0.0706 - val_accuracy: 0.9722\n",
      "Epoch 19/30\n",
      "21/21 [==============================] - 0s 1ms/step - loss: 0.0043 - accuracy: 1.0000 - val_loss: 0.0655 - val_accuracy: 0.9722\n",
      "Epoch 20/30\n",
      "21/21 [==============================] - 0s 2ms/step - loss: 0.0039 - accuracy: 1.0000 - val_loss: 0.0633 - val_accuracy: 0.9722\n",
      "Epoch 21/30\n",
      "21/21 [==============================] - 0s 1ms/step - loss: 0.0039 - accuracy: 1.0000 - val_loss: 0.0721 - val_accuracy: 0.9722\n",
      "Epoch 22/30\n",
      "21/21 [==============================] - 0s 1ms/step - loss: 0.0034 - accuracy: 1.0000 - val_loss: 0.0613 - val_accuracy: 0.9722\n",
      "Epoch 23/30\n",
      "21/21 [==============================] - 0s 1ms/step - loss: 0.0029 - accuracy: 1.0000 - val_loss: 0.0787 - val_accuracy: 0.9722\n",
      "Epoch 24/30\n",
      "21/21 [==============================] - 0s 1ms/step - loss: 0.0025 - accuracy: 1.0000 - val_loss: 0.0664 - val_accuracy: 0.9792\n",
      "Epoch 25/30\n",
      "21/21 [==============================] - 0s 1ms/step - loss: 0.0023 - accuracy: 1.0000 - val_loss: 0.0699 - val_accuracy: 0.9722\n",
      "Epoch 26/30\n",
      "21/21 [==============================] - 0s 1ms/step - loss: 0.0022 - accuracy: 1.0000 - val_loss: 0.0676 - val_accuracy: 0.9722\n",
      "Epoch 27/30\n",
      "21/21 [==============================] - 0s 1ms/step - loss: 0.0020 - accuracy: 1.0000 - val_loss: 0.0679 - val_accuracy: 0.9722\n",
      "Epoch 28/30\n",
      "21/21 [==============================] - 0s 1ms/step - loss: 0.0019 - accuracy: 1.0000 - val_loss: 0.0663 - val_accuracy: 0.9722\n",
      "Epoch 29/30\n",
      "21/21 [==============================] - 0s 1ms/step - loss: 0.0018 - accuracy: 1.0000 - val_loss: 0.0631 - val_accuracy: 0.9861\n",
      "Epoch 30/30\n",
      "21/21 [==============================] - 0s 1ms/step - loss: 0.0017 - accuracy: 1.0000 - val_loss: 0.0668 - val_accuracy: 0.9792\n",
      "12/12 [==============================] - 0s 531us/step\n"
     ]
    }
   ],
   "source": [
    "model_history=model.fit(x=X_train, y=y_train, epochs=30, batch_size=64,validation_split= 0.1)\n",
    "y_pred = model.predict(X_test)\n",
    "\n",
    "y_test_class = np.argmax(y_test,axis=1)\n",
    "y_pred_class = np.argmax(y_pred,axis=1)"
   ]
  },
  {
   "cell_type": "code",
   "execution_count": 14,
   "id": "d5cda75b-392a-4b2d-87ec-0372a86a2fa2",
   "metadata": {},
   "outputs": [
    {
     "data": {
      "image/png": "[encoded data removed]",
      "text/plain": [
       "<Figure size 640x480 with 1 Axes>"
      ]
     },
     "metadata": {},
     "output_type": "display_data"
    }
   ],
   "source": [
    "import matplotlib.pyplot as plt\n",
    "import seaborn as sns\n",
    "\n",
    "loss =model_history.history['loss']\n",
    "val_loss =model_history.history['val_loss']\n",
    "epochs = range(1, len(loss) + 1)\n",
    "\n",
    "plt.plot(epochs, loss, 'y', label='Training loss')\n",
    "plt.plot(epochs, val_loss, 'r', label='Validation loss')\n",
    "plt.title('Training and validation loss')\n",
    "plt.xlabel('Epochs')\n",
    "plt.ylabel('Loss')\n",
    "plt.legend()\n",
    "plt.show()"
   ]
  },
  {
   "cell_type": "code",
   "execution_count": 15,
   "id": "fa0285ef-88de-4cfc-b0f2-29ddec3904b7",
   "metadata": {},
   "outputs": [
    {
     "name": "stdout",
     "output_type": "stream",
     "text": [
      "              precision    recall  f1-score   support\n",
      "\n",
      "           0       1.00      1.00      1.00        37\n",
      "           1       0.97      0.95      0.96        41\n",
      "           2       0.95      0.95      0.95        38\n",
      "           3       0.92      0.97      0.95        36\n",
      "           4       1.00      0.97      0.99        36\n",
      "           5       0.95      0.95      0.95        40\n",
      "           6       1.00      1.00      1.00        27\n",
      "           7       0.92      0.94      0.93        36\n",
      "           8       0.94      0.94      0.94        35\n",
      "           9       0.94      0.91      0.93        34\n",
      "\n",
      "    accuracy                           0.96       360\n",
      "   macro avg       0.96      0.96      0.96       360\n",
      "weighted avg       0.96      0.96      0.96       360\n",
      "\n",
      "[[37  0  0  0  0  0  0  0  0  0]\n",
      " [ 0 39  1  0  0  0  0  0  1  0]\n",
      " [ 0  0 36  2  0  0  0  0  0  0]\n",
      " [ 0  0  0 35  0  1  0  0  0  0]\n",
      " [ 0  0  0  0 35  0  0  1  0  0]\n",
      " [ 0  0  0  0  0 38  0  0  0  2]\n",
      " [ 0  0  0  0  0  0 27  0  0  0]\n",
      " [ 0  1  0  0  0  0  0 34  1  0]\n",
      " [ 0  0  1  0  0  0  0  1 33  0]\n",
      " [ 0  0  0  1  0  1  0  1  0 31]]\n"
     ]
    }
   ],
   "source": [
    "from sklearn.metrics import classification_report,confusion_matrix\n",
    "print(classification_report(y_test_class,y_pred_class))\n",
    "print(confusion_matrix(y_test_class,y_pred_class))"
   ]
  },
  {
   "cell_type": "code",
   "execution_count": 26,
   "id": "e2fd69d9-b891-4100-b917-0b7185afe68a",
   "metadata": {},
   "outputs": [
    {
     "name": "stdout",
     "output_type": "stream",
     "text": [
      "\n",
      "--- KNN Classifier ---\n",
      "0.9777777777777777\n",
      "[[40  0  0  0  0  0  0  0  0  0]\n",
      " [ 0 34  0  0  0  0  0  0  0  0]\n",
      " [ 0  0 44  0  0  0  0  1  0  0]\n",
      " [ 0  0  0 30  0  0  0  0  0  0]\n",
      " [ 0  0  0  0 36  0  0  1  0  0]\n",
      " [ 0  0  0  0  0 24  0  0  0  0]\n",
      " [ 0  1  0  0  0  0 41  0  0  0]\n",
      " [ 0  0  0  0  0  0  0 38  0  0]\n",
      " [ 0  3  0  1  0  0  0  0 28  0]\n",
      " [ 0  0  0  0  1  0  0  0  0 37]]\n"
     ]
    }
   ],
   "source": [
    "from sklearn.neighbors import KNeighborsClassifier\n",
    "knn = KNeighborsClassifier(n_neighbors=6)\n",
    "from sklearn.metrics import classification_report,confusion_matrix, accuracy_score\n",
    "\n",
    "X_train, X_test, y_train, y_test = train_test_split(\n",
    "    X,y, test_size=0.2)\n",
    "knn.fit(X_train, y_train)\n",
    "y_pred = knn.predict(X_test)\n",
    "print (\"\\n--- KNN Classifier ---\")\n",
    "print (accuracy_score(y_test, y_pred))\n",
    "print (confusion_matrix(y_test, y_pred))"
   ]
  },
  {
   "cell_type": "code",
   "execution_count": 23,
   "id": "197e67a4-5951-459b-857c-b115d2a6e88e",
   "metadata": {},
   "outputs": [
    {
     "name": "stdout",
     "output_type": "stream",
     "text": [
      "\n",
      "--- Decision Tree Classifier ---\n",
      "0.8722222222222222\n",
      "[[33  0  0  0  1  0  0  0  0  0]\n",
      " [ 0 35  0  1  0  0  0  0  3  0]\n",
      " [ 0  1 35  0  0  0  0  1  2  0]\n",
      " [ 0  0  1 28  0  0  0  1  1  0]\n",
      " [ 1  0  0  0 35  1  1  0  0  3]\n",
      " [ 2  1  0  0  0 28  2  0  0  2]\n",
      " [ 0  0  0  0  2  0 41  0  0  0]\n",
      " [ 0  3  0  3  0  0  0 33  1  0]\n",
      " [ 0  0  0  2  0  0  0  1 19  1]\n",
      " [ 0  2  1  1  0  1  0  0  3 27]]\n"
     ]
    }
   ],
   "source": [
    "from sklearn.tree import DecisionTreeClassifier\n",
    "clf_dt = DecisionTreeClassifier(random_state=0)\n",
    "clf_dt.fit(X_train, y_train)\n",
    "\n",
    "pred_dt = clf_dt.predict(X_test)\n",
    "\n",
    "print (\"\\n--- Decision Tree Classifier ---\")\n",
    "print (accuracy_score(y_test, pred_dt))\n",
    "print (confusion_matrix(y_test, pred_dt))"
   ]
  },
  {
   "cell_type": "code",
   "execution_count": 24,
   "id": "230dc370-777f-4390-baae-864c424b5d2b",
   "metadata": {},
   "outputs": [
    {
     "name": "stdout",
     "output_type": "stream",
     "text": [
      "\n",
      "--- Logistic Regression Classifier ---\n",
      "0.9611111111111111\n",
      "[[34  0  0  0  0  0  0  0  0  0]\n",
      " [ 0 39  0  0  0  0  0  0  0  0]\n",
      " [ 0  1 38  0  0  0  0  0  0  0]\n",
      " [ 0  0  0 30  0  0  0  0  1  0]\n",
      " [ 0  1  0  0 39  0  0  0  0  1]\n",
      " [ 0  0  0  0  0 31  0  1  0  3]\n",
      " [ 0  0  0  0  0  0 42  0  1  0]\n",
      " [ 0  0  0  0  0  0  0 39  0  1]\n",
      " [ 0  0  0  0  1  1  0  0 21  0]\n",
      " [ 0  0  0  1  0  0  0  0  1 33]]\n"
     ]
    },
    {
     "name": "stderr",
     "output_type": "stream",
     "text": [
      "C:\\Users\\alsgu\\anaconda3\\Lib\\site-packages\\sklearn\\linear_model\\_logistic.py:460: ConvergenceWarning: lbfgs failed to converge (status=1):\n",
      "STOP: TOTAL NO. of ITERATIONS REACHED LIMIT.\n",
      "\n",
      "Increase the number of iterations (max_iter) or scale the data as shown in:\n",
      "    https://scikit-learn.org/stable/modules/preprocessing.html\n",
      "Please also refer to the documentation for alternative solver options:\n",
      "    https://scikit-learn.org/stable/modules/linear_model.html#logistic-regression\n",
      "  n_iter_i = _check_optimize_result(\n"
     ]
    }
   ],
   "source": [
    "from sklearn.linear_model import LogisticRegression\n",
    "from sklearn.svm import SVC\n",
    "from sklearn.neural_network import MLPClassifier\n",
    "from sklearn.tree import DecisionTreeClassifier\n",
    "from sklearn.metrics import accuracy_score\n",
    "from sklearn.metrics import confusion_matrix\n",
    "clf_lr = LogisticRegression(random_state=0)\n",
    "clf_lr.fit(X_train, y_train)\n",
    "\n",
    "pred_lr = clf_lr.predict(X_test)\n",
    "\n",
    "print (\"\\n--- Logistic Regression Classifier ---\")\n",
    "print (accuracy_score(y_test, pred_lr))\n",
    "print (confusion_matrix(y_test, pred_lr))"
   ]
  },
  {
   "cell_type": "code",
   "execution_count": 25,
   "id": "9701b3c1-0964-4f71-9d66-dd2913bbb86b",
   "metadata": {},
   "outputs": [
    {
     "name": "stdout",
     "output_type": "stream",
     "text": [
      "\n",
      "--- Radom Forest ---\n",
      "0.9805555555555555\n",
      "[[34  0  0  0  0  0  0  0  0  0]\n",
      " [ 0 39  0  0  0  0  0  0  0  0]\n",
      " [ 0  0 39  0  0  0  0  0  0  0]\n",
      " [ 0  1  0 30  0  0  0  0  0  0]\n",
      " [ 0  0  0  0 40  0  0  0  0  1]\n",
      " [ 0  0  0  0  1 33  0  0  0  1]\n",
      " [ 0  0  0  0  0  0 42  0  1  0]\n",
      " [ 0  0  0  0  0  0  0 40  0  0]\n",
      " [ 0  0  0  0  0  0  0  1 22  0]\n",
      " [ 0  0  0  0  0  0  0  0  1 34]]\n"
     ]
    }
   ],
   "source": [
    "from sklearn.ensemble import RandomForestClassifier\n",
    "from sklearn.metrics import accuracy_score\n",
    "import pandas as pd\n",
    "import warnings\n",
    "warnings.filterwarnings('ignore')\n",
    "\n",
    "print (\"\\n--- Radom Forest ---\")\n",
    "rf_clf = RandomForestClassifier(random_state=0)\n",
    "rf_clf.fit(X_train, y_train)\n",
    "pred = rf_clf.predict(X_test)\n",
    "print(accuracy_score(y_test,pred))\n",
    "print (confusion_matrix(y_test, pred))\n"
   ]
  },
  {
   "cell_type": "code",
   "execution_count": null,
   "id": "f47e9dcf-a447-4671-8d6b-f58a0fe5d335",
   "metadata": {},
   "outputs": [],
   "source": []
  }
 ],
 "metadata": {
  "kernelspec": {
   "display_name": "Python 3 (ipykernel)",
   "language": "python",
   "name": "python3"
  },
  "language_info": {
   "codemirror_mode": {
    "name": "ipython",
    "version": 3
   },
   "file_extension": ".py",
   "mimetype": "text/x-python",
   "name": "python",
   "nbconvert_exporter": "python",
   "pygments_lexer": "ipython3",
   "version": "3.11.5"
  }
 },
 "nbformat": 4,
 "nbformat_minor": 5
}
