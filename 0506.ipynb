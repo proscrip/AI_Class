{
 "cells": [
  {
   "cell_type": "code",
   "execution_count": 14,
   "id": "e9748c3a-bd9e-4f12-8b34-b5c417fd416e",
   "metadata": {},
   "outputs": [
    {
     "name": "stdout",
     "output_type": "stream",
     "text": [
      "     Sex  Length  Diameter  Height  Whole_weight  Shucked_weight  \\\n",
      "0      M   0.455     0.365   0.095        0.5140          0.2245   \n",
      "1      M   0.350     0.265   0.090        0.2255          0.0995   \n",
      "2      F   0.530     0.420   0.135        0.6770          0.2565   \n",
      "3      M   0.440     0.365   0.125        0.5160          0.2155   \n",
      "4      I   0.330     0.255   0.080        0.2050          0.0895   \n",
      "...   ..     ...       ...     ...           ...             ...   \n",
      "4172   F   0.565     0.450   0.165        0.8870          0.3700   \n",
      "4173   M   0.590     0.440   0.135        0.9660          0.4390   \n",
      "4174   M   0.600     0.475   0.205        1.1760          0.5255   \n",
      "4175   F   0.625     0.485   0.150        1.0945          0.5310   \n",
      "4176   M   0.710     0.555   0.195        1.9485          0.9455   \n",
      "\n",
      "      Viscera_weight  Shell_weight  Rings  \n",
      "0             0.1010        0.1500     15  \n",
      "1             0.0485        0.0700      7  \n",
      "2             0.1415        0.2100      9  \n",
      "3             0.1140        0.1550     10  \n",
      "4             0.0395        0.0550      7  \n",
      "...              ...           ...    ...  \n",
      "4172          0.2390        0.2490     11  \n",
      "4173          0.2145        0.2605     10  \n",
      "4174          0.2875        0.3080      9  \n",
      "4175          0.2610        0.2960     10  \n",
      "4176          0.3765        0.4950     12  \n",
      "\n",
      "[4177 rows x 9 columns]\n"
     ]
    },
    {
     "data": {
      "text/plain": [
       "\"print(df['sub_id'].value_counts())\\nprint(df['activity_id'].value_counts())\\ndf=df.drop(columns=['sub_id', 'activity_id'])\\nlabel=LabelEncoder()\\ndf['act_lavel']=label.fit_transform(df['act_level'])\\ndf\""
      ]
     },
     "execution_count": 14,
     "metadata": {},
     "output_type": "execute_result"
    }
   ],
   "source": [
    "from sklearn.model_selection import train_test_split\n",
    "import tensorflow as tf\n",
    "from tensorflow import keras\n",
    "import pandas as pd\n",
    "import matplotlib.pyplot as plt\n",
    "import seaborn as sns\n",
    "from sklearn.preprocessing import StandardScaler,LabelEncoder\n",
    "df=pd.read_csv('abalone.data', header=None)\n",
    "df.columns = ['Sex', 'Length', 'Diameter', 'Height', 'Whole_weight', 'Shucked_weight', 'Viscera_weight', 'Shell_weight', 'Rings']\n",
    "print(df)\n",
    "\n",
    "\n"
   ]
  },
  {
   "cell_type": "code",
   "execution_count": 15,
   "id": "f7fbe781-f860-4a2b-a20e-b3533e9df0c4",
   "metadata": {},
   "outputs": [
    {
     "data": {
      "text/plain": [
       "Sex               0\n",
       "Length            0\n",
       "Diameter          0\n",
       "Height            0\n",
       "Whole_weight      0\n",
       "Shucked_weight    0\n",
       "Viscera_weight    0\n",
       "Shell_weight      0\n",
       "Rings             0\n",
       "dtype: int64"
      ]
     },
     "execution_count": 15,
     "metadata": {},
     "output_type": "execute_result"
    }
   ],
   "source": [
    "df.isna().sum()"
   ]
  },
  {
   "cell_type": "code",
   "execution_count": 16,
   "id": "db2c1ac8-3fca-4e52-afc2-21797b71dbda",
   "metadata": {},
   "outputs": [],
   "source": [
    "from sklearn.preprocessing import LabelEncoder\n",
    "\n",
    "label = LabelEncoder()\n",
    "\n",
    "df['Sex'] = label.fit_transform(df['Sex'])\n"
   ]
  },
  {
   "cell_type": "code",
   "execution_count": 17,
   "id": "07dfbfdc-ae1d-40e3-bd75-cf56b2a975f9",
   "metadata": {},
   "outputs": [],
   "source": [
    "from sklearn.preprocessing import StandardScaler\n",
    "\n",
    "scaler = StandardScaler()\n",
    "data_standard = scaler.fit_transform(df.drop('Rings', axis=1))  \n",
    "df_standard = pd.DataFrame(data_standard, columns=df.columns[:-1])  \n"
   ]
  },
  {
   "cell_type": "code",
   "execution_count": 20,
   "id": "0cfd299f-f94f-4ba3-9faa-47cad573c31e",
   "metadata": {},
   "outputs": [],
   "source": [
    "from sklearn.model_selection import train_test_split\n",
    "import tensorflow as tf\n",
    "from tensorflow import keras\n",
    "import pandas as pd\n",
    "import matplotlib.pyplot as plt\n",
    "import seaborn as sns\n",
    "\n",
    "plt.rcParams['figure.figsize'] = (15,12)\n",
    "X=df_standard.values\n",
    "y=df['Rings']\n",
    "Y=pd.get_dummies(y).values\n"
   ]
  },
  {
   "cell_type": "code",
   "execution_count": 27,
   "id": "24d5a53a-a9ed-45dc-8323-be2e765784af",
   "metadata": {},
   "outputs": [
    {
     "name": "stdout",
     "output_type": "stream",
     "text": [
      "(3132, 8) (1045, 8) (3132, 28) (1045, 28)\n"
     ]
    }
   ],
   "source": [
    "from sklearn.model_selection import train_test_split\n",
    "\n",
    "X_train, X_test, Y_train, Y_test = train_test_split(X, Y,test_size=0.25,random_state=0)\n",
    "\n",
    "print(X_train.shape, X_test.shape, Y_train.shape, Y_test.shape)"
   ]
  },
  {
   "cell_type": "code",
   "execution_count": 53,
   "id": "fe9248af-4fb3-4acf-adac-4fdbd36c2fa1",
   "metadata": {},
   "outputs": [
    {
     "name": "stderr",
     "output_type": "stream",
     "text": [
      "WARNING:absl:`lr` is deprecated in Keras optimizer, please use `learning_rate` or use the legacy optimizer, e.g.,tf.keras.optimizers.legacy.Adam.\n"
     ]
    },
    {
     "name": "stdout",
     "output_type": "stream",
     "text": [
      "Model: \"sequential_8\"\n",
      "_________________________________________________________________\n",
      " Layer (type)                Output Shape              Param #   \n",
      "=================================================================\n",
      " dense_39 (Dense)            (None, 128)               1152      \n",
      "                                                                 \n",
      " dense_40 (Dense)            (None, 64)                8256      \n",
      "                                                                 \n",
      " dense_41 (Dense)            (None, 32)                2080      \n",
      "                                                                 \n",
      " dense_42 (Dense)            (None, 28)                924       \n",
      "                                                                 \n",
      "=================================================================\n",
      "Total params: 12412 (48.48 KB)\n",
      "Trainable params: 12412 (48.48 KB)\n",
      "Non-trainable params: 0 (0.00 Byte)\n",
      "_________________________________________________________________\n"
     ]
    }
   ],
   "source": [
    "import tensorflow as tf\n",
    "from tensorflow import keras\n",
    "from keras.models import Sequential\n",
    "from keras.layers import Dense\n",
    "from keras.optimizers import SGD,Adam\n",
    "from keras.models import Model\n",
    "from keras.layers import Input, Dense\n",
    "from keras.optimizers import Adam\n",
    "\n",
    "model = Sequential()\n",
    "model.add(Dense(128, input_shape=(8,), activation='relu'))\n",
    "model.add(Dense(64, activation='relu'))\n",
    "model.add(Dense(32, activation='relu'))\n",
    "model.add(Dense(28, activation='sigmoid'))\n",
    "\n",
    "\n",
    "model.compile(Adam(lr=0.04),'mse',metrics=['mse'])\n",
    "\n",
    "model.summary()\n"
   ]
  },
  {
   "cell_type": "code",
   "execution_count": 54,
   "id": "220280a0-e807-4863-afd7-743375c4efd5",
   "metadata": {},
   "outputs": [
    {
     "name": "stdout",
     "output_type": "stream",
     "text": [
      "Epoch 1/30\n",
      "45/45 [==============================] - 0s 3ms/step - loss: 0.1312 - mse: 0.1312 - val_loss: 0.0411 - val_mse: 0.0411\n",
      "Epoch 2/30\n",
      "45/45 [==============================] - 0s 1ms/step - loss: 0.0351 - mse: 0.0351 - val_loss: 0.0325 - val_mse: 0.0325\n",
      "Epoch 3/30\n",
      "45/45 [==============================] - 0s 1ms/step - loss: 0.0325 - mse: 0.0325 - val_loss: 0.0317 - val_mse: 0.0317\n",
      "Epoch 4/30\n",
      "45/45 [==============================] - 0s 1ms/step - loss: 0.0318 - mse: 0.0318 - val_loss: 0.0313 - val_mse: 0.0313\n",
      "Epoch 5/30\n",
      "45/45 [==============================] - 0s 1ms/step - loss: 0.0314 - mse: 0.0314 - val_loss: 0.0309 - val_mse: 0.0309\n",
      "Epoch 6/30\n",
      "45/45 [==============================] - 0s 1ms/step - loss: 0.0309 - mse: 0.0309 - val_loss: 0.0307 - val_mse: 0.0307\n",
      "Epoch 7/30\n",
      "45/45 [==============================] - 0s 1ms/step - loss: 0.0306 - mse: 0.0306 - val_loss: 0.0305 - val_mse: 0.0305\n",
      "Epoch 8/30\n",
      "45/45 [==============================] - 0s 1ms/step - loss: 0.0304 - mse: 0.0304 - val_loss: 0.0304 - val_mse: 0.0304\n",
      "Epoch 9/30\n",
      "45/45 [==============================] - 0s 1ms/step - loss: 0.0303 - mse: 0.0303 - val_loss: 0.0303 - val_mse: 0.0303\n",
      "Epoch 10/30\n",
      "45/45 [==============================] - 0s 1ms/step - loss: 0.0303 - mse: 0.0303 - val_loss: 0.0303 - val_mse: 0.0303\n",
      "Epoch 11/30\n",
      "45/45 [==============================] - 0s 1ms/step - loss: 0.0303 - mse: 0.0303 - val_loss: 0.0302 - val_mse: 0.0302\n",
      "Epoch 12/30\n",
      "45/45 [==============================] - 0s 1ms/step - loss: 0.0301 - mse: 0.0301 - val_loss: 0.0302 - val_mse: 0.0302\n",
      "Epoch 13/30\n",
      "45/45 [==============================] - 0s 1ms/step - loss: 0.0301 - mse: 0.0301 - val_loss: 0.0302 - val_mse: 0.0302\n",
      "Epoch 14/30\n",
      "45/45 [==============================] - 0s 1ms/step - loss: 0.0301 - mse: 0.0301 - val_loss: 0.0299 - val_mse: 0.0299\n",
      "Epoch 15/30\n",
      "45/45 [==============================] - 0s 1ms/step - loss: 0.0299 - mse: 0.0299 - val_loss: 0.0299 - val_mse: 0.0299\n",
      "Epoch 16/30\n",
      "45/45 [==============================] - 0s 1ms/step - loss: 0.0298 - mse: 0.0298 - val_loss: 0.0299 - val_mse: 0.0299\n",
      "Epoch 17/30\n",
      "45/45 [==============================] - 0s 1ms/step - loss: 0.0298 - mse: 0.0298 - val_loss: 0.0298 - val_mse: 0.0298\n",
      "Epoch 18/30\n",
      "45/45 [==============================] - 0s 1ms/step - loss: 0.0298 - mse: 0.0298 - val_loss: 0.0299 - val_mse: 0.0299\n",
      "Epoch 19/30\n",
      "45/45 [==============================] - 0s 1ms/step - loss: 0.0297 - mse: 0.0297 - val_loss: 0.0299 - val_mse: 0.0299\n",
      "Epoch 20/30\n",
      "45/45 [==============================] - 0s 1ms/step - loss: 0.0296 - mse: 0.0296 - val_loss: 0.0297 - val_mse: 0.0297\n",
      "Epoch 21/30\n",
      "45/45 [==============================] - 0s 1ms/step - loss: 0.0296 - mse: 0.0296 - val_loss: 0.0297 - val_mse: 0.0297\n",
      "Epoch 22/30\n",
      "45/45 [==============================] - 0s 1ms/step - loss: 0.0296 - mse: 0.0296 - val_loss: 0.0296 - val_mse: 0.0296\n",
      "Epoch 23/30\n",
      "45/45 [==============================] - 0s 997us/step - loss: 0.0295 - mse: 0.0295 - val_loss: 0.0297 - val_mse: 0.0297\n",
      "Epoch 24/30\n",
      "45/45 [==============================] - 0s 1ms/step - loss: 0.0295 - mse: 0.0295 - val_loss: 0.0295 - val_mse: 0.0295\n",
      "Epoch 25/30\n",
      "45/45 [==============================] - 0s 1ms/step - loss: 0.0295 - mse: 0.0295 - val_loss: 0.0297 - val_mse: 0.0297\n",
      "Epoch 26/30\n",
      "45/45 [==============================] - 0s 1ms/step - loss: 0.0294 - mse: 0.0294 - val_loss: 0.0296 - val_mse: 0.0296\n",
      "Epoch 27/30\n",
      "45/45 [==============================] - 0s 1ms/step - loss: 0.0294 - mse: 0.0294 - val_loss: 0.0296 - val_mse: 0.0296\n",
      "Epoch 28/30\n",
      "45/45 [==============================] - 0s 1ms/step - loss: 0.0293 - mse: 0.0293 - val_loss: 0.0297 - val_mse: 0.0297\n",
      "Epoch 29/30\n",
      "45/45 [==============================] - 0s 1ms/step - loss: 0.0293 - mse: 0.0293 - val_loss: 0.0299 - val_mse: 0.0299\n",
      "Epoch 30/30\n",
      "45/45 [==============================] - 0s 1ms/step - loss: 0.0295 - mse: 0.0295 - val_loss: 0.0296 - val_mse: 0.0296\n",
      "33/33 [==============================] - 0s 493us/step\n"
     ]
    }
   ],
   "source": [
    "model_history=model.fit(x=X_train, y=Y_train, epochs=30, batch_size=64,validation_split= 0.1)\n",
    "pred_y = model.predict(X_test)"
   ]
  },
  {
   "cell_type": "code",
   "execution_count": 55,
   "id": "16489245-31fd-447b-92bf-ed0864ac8059",
   "metadata": {},
   "outputs": [
    {
     "data": {
      "image/png": "[encoded data removed]",
      "text/plain": [
       "<Figure size 1500x1200 with 1 Axes>"
      ]
     },
     "metadata": {},
     "output_type": "display_data"
    }
   ],
   "source": [
    "import matplotlib.pyplot as plt\n",
    "import seaborn as sns\n",
    "\n",
    "loss = model_history.history['loss']\n",
    "val_loss = model_history.history['val_loss']\n",
    "epochs = range(1, len(loss) + 1)\n",
    "\n",
    "plt.plot(epochs, loss, 'y', label='Training loss')\n",
    "plt.plot(epochs, val_loss, 'r', label='Validation loss')\n",
    "plt.title('Training and validation loss')\n",
    "plt.xlabel('Epochs')\n",
    "plt.ylabel('Loss')\n",
    "plt.legend()\n",
    "plt.show()"
   ]
  },
  {
   "cell_type": "code",
   "execution_count": 61,
   "id": "b7f3221a-8873-4189-9853-96bb6727829e",
   "metadata": {},
   "outputs": [
    {
     "name": "stdout",
     "output_type": "stream",
     "text": [
      "\n",
      "--- KNN Classifier ---\n",
      "7.442583732057416\n",
      "[[ 1  1  0  0  0  0  0  0  0  0  0  0  0  0  0  0  0  0  0  0]\n",
      " [ 1  3  6  2  0  0  0  0  0  0  0  0  0  0  0  0  0  0  0  0]\n",
      " [ 0  4  6 10  4  0  0  0  0  0  0  0  0  0  0  0  0  0  0  0]\n",
      " [ 1  0  6 18 15  6  0  0  0  0  0  0  0  0  0  0  0  0  0  0]\n",
      " [ 1  1  2 23 21 23 10  4  1  0  0  0  0  0  0  0  0  0  0  0]\n",
      " [ 0  0  2  7 15 39 26 13  4  0  1  0  0  0  0  0  0  0  0  0]\n",
      " [ 0  0  1  3 16 33 41 36 15  3  0  0  0  0  0  0  0  0  0  0]\n",
      " [ 0  0  0  3  6 18 36 32 18  6  1  0  1  1  1  0  0  0  0  0]\n",
      " [ 0  0  0  0  3 12 25 20 22  3  6  0  1  0  1  0  0  0  0  0]\n",
      " [ 0  0  0  0  4  6 16  9 10  4  3  0  1  0  0  0  0  0  0  0]\n",
      " [ 0  0  0  0  4  3  8 10  7  5  1  0  2  0  1  0  0  0  0  0]\n",
      " [ 0  0  0  0  0  3  8  6  5  4  2  0  0  1  4  0  0  0  0  0]\n",
      " [ 0  0  0  0  0  4  3  9  1  0  3  0  0  0  1  0  0  0  0  0]\n",
      " [ 0  0  0  0  0  1  2  3  2  2  1  1  0  1  0  0  1  0  0  0]\n",
      " [ 0  0  0  0  0  0  0  1  2  2  2  0  1  0  1  0  0  0  0  0]\n",
      " [ 0  0  0  0  0  1  1  1  2  0  0  0  0  0  0  0  0  0  0  0]\n",
      " [ 0  0  0  1  0  1  0  0  2  0  1  0  0  0  0  0  0  0  0  0]\n",
      " [ 0  0  0  0  0  0  1  2  0  1  1  0  0  0  0  0  0  0  0  0]\n",
      " [ 0  0  0  0  0  1  1  1  2  2  0  0  0  1  0  0  0  0  0  0]\n",
      " [ 0  0  0  0  0  0  0  1  0  0  0  0  0  0  0  0  0  0  0  0]]\n"
     ]
    }
   ],
   "source": [
    "from sklearn.neighbors import KNeighborsClassifier\n",
    "knn = KNeighborsClassifier(n_neighbors=6)\n",
    "from sklearn.metrics import classification_report,confusion_matrix, mean_squared_error\n",
    "\n",
    "X_train, X_test, y_train, y_test = train_test_split(\n",
    "    X,y, test_size=0.2)\n",
    "knn.fit(X_train, y_train)\n",
    "y_pred = knn.predict(X_test)\n",
    "print (\"\\n--- KNN Classifier ---\")\n",
    "print (mean_squared_error(y_test, y_pred))\n",
    "print (confusion_matrix(y_test, y_pred))"
   ]
  },
  {
   "cell_type": "code",
   "execution_count": 62,
   "id": "82679a6f-2138-40c6-949d-99d858ff2f9d",
   "metadata": {},
   "outputs": [
    {
     "name": "stdout",
     "output_type": "stream",
     "text": [
      "\n",
      "--- Decision Tree Classifier ---\n",
      "9.589712918660288\n",
      "[[ 0  0  0  0  0  0  0  0  0  0  0  0  0  0  0  0  0  0  0  0  0  0  0]\n",
      " [ 1  0  0  1  0  0  0  0  0  0  0  0  0  0  0  0  0  0  0  0  0  0  0]\n",
      " [ 0  1  4  5  2  0  0  0  0  0  0  0  0  0  0  0  0  0  0  0  0  0  0]\n",
      " [ 0  0  3  7  7  5  0  1  1  0  0  0  0  0  0  0  0  0  0  0  0  0  0]\n",
      " [ 0  0  0  7 13 16  6  1  0  2  1  0  0  0  0  0  0  0  0  0  0  0  0]\n",
      " [ 0  0  1  6 16 22 19  7 10  4  1  0  0  0  0  0  0  0  0  0  0  0  0]\n",
      " [ 0  0  0  1 10 15 25 26 15  5  6  0  1  1  0  0  1  0  1  0  0  0  0]\n",
      " [ 0  0  0  2  4 12 20 35 29 22 10  2  5  2  1  0  0  1  1  0  2  0  0]\n",
      " [ 0  0  0  0  2  4 12 24 27 17 16  3  2  6  1  5  0  2  1  1  0  0  0]\n",
      " [ 0  0  0  0  0  2  3 20 32  9  9  6  4  4  0  1  2  0  1  0  0  0  0]\n",
      " [ 0  0  0  0  2  2  3 12  7 11  4  6  2  1  0  0  2  1  0  0  0  0  0]\n",
      " [ 0  0  0  0  0  1  4  8  8  3  4  3  3  0  2  0  1  1  2  0  1  0  0]\n",
      " [ 0  0  0  0  0  2  3  5  2  4  6  3  1  1  0  0  1  1  2  1  0  0  1]\n",
      " [ 0  0  0  0  0  2  1  2  4  5  0  1  2  0  2  0  1  0  1  0  0  0  0]\n",
      " [ 0  0  0  0  0  1  0  0  4  2  0  2  1  0  0  0  0  1  3  0  0  0  0]\n",
      " [ 0  0  0  0  0  0  0  1  1  2  1  0  2  2  0  0  0  0  0  0  0  0  0]\n",
      " [ 0  0  0  0  0  0  1  2  1  1  0  0  0  0  0  0  0  0  0  0  0  0  0]\n",
      " [ 0  0  0  0  0  0  0  2  0  1  0  0  1  0  0  0  0  0  1  0  0  0  0]\n",
      " [ 0  0  0  0  0  0  0  0  1  0  0  0  1  0  0  1  1  0  1  0  0  0  0]\n",
      " [ 0  0  0  0  0  0  0  0  0  1  1  2  0  0  0  3  1  0  0  0  0  0  0]\n",
      " [ 0  0  0  0  0  0  0  0  0  0  0  0  0  0  0  0  0  0  0  0  0  0  0]\n",
      " [ 0  0  0  0  0  0  0  0  0  0  0  0  0  0  1  0  0  0  0  0  0  0  0]\n",
      " [ 0  0  0  0  0  0  0  0  0  0  0  0  0  0  0  0  0  0  0  0  0  0  0]]\n"
     ]
    }
   ],
   "source": [
    "from sklearn.tree import DecisionTreeClassifier\n",
    "clf_dt = DecisionTreeClassifier(random_state=0)\n",
    "clf_dt.fit(X_train, y_train)\n",
    "\n",
    "pred_dt = clf_dt.predict(X_test)\n",
    "\n",
    "print (\"\\n--- Decision Tree Classifier ---\")\n",
    "print (mean_squared_error(y_test, pred_dt))\n",
    "print (confusion_matrix(y_test, pred_dt))"
   ]
  },
  {
   "cell_type": "code",
   "execution_count": 64,
   "id": "8a4e90f5-a948-4b75-966a-cc78c4c643d0",
   "metadata": {},
   "outputs": [
    {
     "name": "stdout",
     "output_type": "stream",
     "text": [
      "\n",
      "--- Logistic Regression Classifier ---\n",
      "6.273923444976076\n",
      "[[ 0  1  1  0  0  0  0  0  0  0  0  0  0  0  0  0  0  0  0  0]\n",
      " [ 0  3  7  1  1  0  0  0  0  0  0  0  0  0  0  0  0  0  0  0]\n",
      " [ 0  3  6 13  1  1  0  0  0  0  0  0  0  0  0  0  0  0  0  0]\n",
      " [ 0  0  6 19 14  7  0  0  0  0  0  0  0  0  0  0  0  0  0  0]\n",
      " [ 0  1  2 13 31 31  6  1  1  0  0  0  0  0  0  0  0  0  0  0]\n",
      " [ 0  0  1  6 16 37 33 11  2  0  0  0  0  1  0  0  0  0  0  0]\n",
      " [ 0  0  0  7 10 27 58 33 12  0  1  0  0  0  0  0  0  0  0  0]\n",
      " [ 0  0  0  2  8 16 32 41 21  0  3  0  0  0  0  0  0  0  0  0]\n",
      " [ 0  0  0  1  2  6 25 37 17  3  2  0  0  0  0  0  0  0  0  0]\n",
      " [ 0  0  0  0  1 11 10 17 11  1  1  0  0  1  0  0  0  0  0  0]\n",
      " [ 0  0  0  0  0  6  4 16  8  1  3  0  0  2  1  0  0  0  0  0]\n",
      " [ 0  0  0  0  0  2  3 17  5  1  3  0  1  0  1  0  0  0  0  0]\n",
      " [ 0  0  0  0  0  3  4  9  4  0  1  0  0  0  0  0  0  0  0  0]\n",
      " [ 0  0  0  0  0  0  1  3  6  2  1  0  0  1  0  0  0  0  0  0]\n",
      " [ 0  0  0  0  0  0  0  1  3  0  4  0  0  1  0  0  0  0  0  0]\n",
      " [ 0  0  0  0  0  1  0  3  1  0  0  0  0  0  0  0  0  0  0  0]\n",
      " [ 0  0  0  0  0  1  0  1  2  0  1  0  0  0  0  0  0  0  0  0]\n",
      " [ 0  0  0  0  0  0  0  0  1  1  2  0  0  1  0  0  0  0  0  0]\n",
      " [ 0  0  0  0  0  0  0  0  3  2  1  0  1  0  1  0  0  0  0  0]\n",
      " [ 0  0  0  0  0  0  0  0  0  0  1  0  0  0  0  0  0  0  0  0]]\n"
     ]
    },
    {
     "name": "stderr",
     "output_type": "stream",
     "text": [
      "C:\\Users\\alsgu\\anaconda3\\Lib\\site-packages\\sklearn\\linear_model\\_logistic.py:460: ConvergenceWarning: lbfgs failed to converge (status=1):\n",
      "STOP: TOTAL NO. of ITERATIONS REACHED LIMIT.\n",
      "\n",
      "Increase the number of iterations (max_iter) or scale the data as shown in:\n",
      "    https://scikit-learn.org/stable/modules/preprocessing.html\n",
      "Please also refer to the documentation for alternative solver options:\n",
      "    https://scikit-learn.org/stable/modules/linear_model.html#logistic-regression\n",
      "  n_iter_i = _check_optimize_result(\n"
     ]
    }
   ],
   "source": [
    "from sklearn.linear_model import LogisticRegression\n",
    "from sklearn.svm import SVC\n",
    "from sklearn.neural_network import MLPClassifier\n",
    "from sklearn.tree import DecisionTreeClassifier\n",
    "from sklearn.metrics import confusion_matrix\n",
    "clf_lr = LogisticRegression(random_state=0)\n",
    "clf_lr.fit(X_train, y_train)\n",
    "\n",
    "pred_lr = clf_lr.predict(X_test)\n",
    "\n",
    "print (\"\\n--- Logistic Regression Classifier ---\")\n",
    "print (mean_squared_error(y_test, pred_lr))\n",
    "print (confusion_matrix(y_test, pred_lr))"
   ]
  },
  {
   "cell_type": "code",
   "execution_count": 65,
   "id": "59318e17-fbeb-4f25-bb2a-1bd1ba85d547",
   "metadata": {},
   "outputs": [
    {
     "name": "stdout",
     "output_type": "stream",
     "text": [
      "\n",
      "--- Radom Forest ---\n",
      "6.503588516746412\n",
      "[[ 1  0  1  0  0  0  0  0  0  0  0  0  0  0  0  0  0  0  0  0]\n",
      " [ 2  3  4  2  1  0  0  0  0  0  0  0  0  0  0  0  0  0  0  0]\n",
      " [ 0  4  6  9  5  0  0  0  0  0  0  0  0  0  0  0  0  0  0  0]\n",
      " [ 0  0  9 15 18  4  0  0  0  0  0  0  0  0  0  0  0  0  0  0]\n",
      " [ 0  2  3 14 26 29  6  3  3  0  0  0  0  0  0  0  0  0  0  0]\n",
      " [ 0  0  1  6 23 28 23 17  6  1  2  0  0  0  0  0  0  0  0  0]\n",
      " [ 0  0  1  3 12 27 46 36 18  5  0  0  0  0  0  0  0  0  0  0]\n",
      " [ 0  0  0  1  6 12 32 35 25  5  4  0  2  1  0  0  0  0  0  0]\n",
      " [ 0  0  0  1  0  8 19 25 24  5  7  2  1  0  1  0  0  0  0  0]\n",
      " [ 0  0  0  1  2  2 15 14 10  5  2  1  0  0  1  0  0  0  0  0]\n",
      " [ 0  0  0  0  1  5 10  5 10  3  3  2  1  0  1  0  0  0  0  0]\n",
      " [ 0  0  0  0  0  3  7  8  5  4  3  1  1  1  0  0  0  0  0  0]\n",
      " [ 0  0  0  0  2  1  4  6  3  0  2  1  0  0  1  0  1  0  0  0]\n",
      " [ 0  0  0  0  0  0  2  7  1  0  2  0  1  0  1  0  0  0  0  0]\n",
      " [ 0  0  0  0  0  0  0  1  2  2  1  0  2  0  1  0  0  0  0  0]\n",
      " [ 0  0  0  0  0  1  1  2  1  0  0  0  0  0  0  0  0  0  0  0]\n",
      " [ 0  0  0  0  0  0  1  0  2  0  1  1  0  0  0  0  0  0  0  0]\n",
      " [ 0  0  0  0  0  0  0  1  0  2  1  1  0  0  0  0  0  0  0  0]\n",
      " [ 0  0  0  0  0  0  0  1  3  1  1  0  0  0  2  0  0  0  0  0]\n",
      " [ 0  0  0  0  0  0  0  0  0  0  0  0  0  1  0  0  0  0  0  0]]\n"
     ]
    }
   ],
   "source": [
    "from sklearn.ensemble import RandomForestClassifier\n",
    "from sklearn.metrics import accuracy_score\n",
    "import pandas as pd\n",
    "import warnings\n",
    "warnings.filterwarnings('ignore')\n",
    "\n",
    "print (\"\\n--- Radom Forest ---\")\n",
    "rf_clf = RandomForestClassifier(random_state=0)\n",
    "rf_clf.fit(X_train, y_train)\n",
    "pred = rf_clf.predict(X_test)\n",
    "print(mean_squared_error(y_test,pred))\n",
    "print (confusion_matrix(y_test, pred))"
   ]
  },
  {
   "cell_type": "code",
   "execution_count": null,
   "id": "f0812037-6389-4bac-aaa0-8a998b50942c",
   "metadata": {},
   "outputs": [],
   "source": []
  }
 ],
 "metadata": {
  "kernelspec": {
   "display_name": "Python 3 (ipykernel)",
   "language": "python",
   "name": "python3"
  },
  "language_info": {
   "codemirror_mode": {
    "name": "ipython",
    "version": 3
   },
   "file_extension": ".py",
   "mimetype": "text/x-python",
   "name": "python",
   "nbconvert_exporter": "python",
   "pygments_lexer": "ipython3",
   "version": "3.11.5"
  }
 },
 "nbformat": 4,
 "nbformat_minor": 5
}
